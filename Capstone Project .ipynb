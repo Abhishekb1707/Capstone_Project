{
 "cells": [
  {
   "cell_type": "code",
   "execution_count": 1,
   "id": "ea14b432",
   "metadata": {},
   "outputs": [],
   "source": [
    "import pandas as pd\n",
    "import numpy as np\n",
    "import seaborn as sns\n",
    "\n",
    "import matplotlib.pyplot as plt\n",
    "from matplotlib.colors import ListedColormap\n",
    "\n",
    "import warnings\n",
    "warnings.filterwarnings(\"ignore\")\n",
    "\n",
    "import statistics\n",
    "\n",
    "from sklearn.preprocessing import StandardScaler\n",
    "from sklearn.preprocessing import LabelEncoder\n",
    "from sklearn.cluster import KMeans\n",
    "from sklearn.metrics import silhouette_score\n",
    "from datetime import timedelta\n",
    "\n",
    "from scipy import stats\n",
    "from scipy.stats import shapiro\n",
    "from scipy.stats import chi2_contingency\n",
    "from scipy.stats import chi2\n",
    "from scipy.stats import chisquare\n",
    "\n",
    "import statsmodels.api as sm\n",
    "from statsmodels.stats import weightstats as stests\n",
    "from statsmodels.formula.api import ols\n",
    "import statsmodels.formula.api as sfa\n",
    "from statsmodels.stats.anova import anova_lm\n",
    "from statsmodels.stats.outliers_influence import variance_inflation_factor\n",
    "\n",
    "from sklearn.model_selection import train_test_split\n",
    "from sklearn.model_selection import GridSearchCV\n",
    "from sklearn.model_selection import cross_val_score\n",
    "from sklearn.model_selection import RepeatedStratifiedKFold\n",
    "from sklearn.model_selection import StratifiedKFold\n",
    "from sklearn.model_selection import KFold\n",
    "\n",
    "from sklearn import metrics\n",
    "from sklearn.linear_model import LogisticRegression\n",
    "from sklearn.metrics import classification_report\n",
    "from sklearn.metrics import cohen_kappa_score\n",
    "from sklearn.metrics import confusion_matrix\n",
    "from sklearn.metrics import roc_curve\n",
    "from sklearn.metrics import roc_auc_score\n",
    "from sklearn.metrics import precision_score\n",
    "from sklearn.metrics import recall_score\n",
    "from sklearn.metrics import precision_recall_curve\n",
    "from sklearn.metrics import f1_score\n",
    "from sklearn.metrics import accuracy_score\n",
    "from sklearn.feature_selection import RFE\n",
    "from sklearn.utils import resample\n",
    "\n",
    "from sklearn.tree import DecisionTreeClassifier\n",
    "from sklearn.ensemble import RandomForestClassifier\n",
    "from sklearn.naive_bayes import GaussianNB\n",
    "from xgboost import XGBClassifier\n",
    "from sklearn.ensemble import GradientBoostingClassifier\n",
    "from sklearn.ensemble import AdaBoostClassifier\n",
    "from sklearn.ensemble import StackingClassifier\n",
    "from sklearn.neighbors import KNeighborsClassifier"
   ]
  },
  {
   "cell_type": "markdown",
   "id": "fe744f91",
   "metadata": {},
   "source": [
    "### Reading the dataset"
   ]
  },
  {
   "cell_type": "code",
   "execution_count": 2,
   "id": "39a41fdd",
   "metadata": {},
   "outputs": [
    {
     "data": {
      "text/html": [
       "<div>\n",
       "<style scoped>\n",
       "    .dataframe tbody tr th:only-of-type {\n",
       "        vertical-align: middle;\n",
       "    }\n",
       "\n",
       "    .dataframe tbody tr th {\n",
       "        vertical-align: top;\n",
       "    }\n",
       "\n",
       "    .dataframe thead th {\n",
       "        text-align: right;\n",
       "    }\n",
       "</style>\n",
       "<table border=\"1\" class=\"dataframe\">\n",
       "  <thead>\n",
       "    <tr style=\"text-align: right;\">\n",
       "      <th></th>\n",
       "      <th>Transaction_id</th>\n",
       "      <th>customer_id</th>\n",
       "      <th>Date</th>\n",
       "      <th>Product</th>\n",
       "      <th>Gender</th>\n",
       "      <th>Device_Type</th>\n",
       "      <th>Country</th>\n",
       "      <th>State</th>\n",
       "      <th>City</th>\n",
       "      <th>Category</th>\n",
       "      <th>Customer_Login_type</th>\n",
       "      <th>Delivery_Type</th>\n",
       "      <th>Quantity</th>\n",
       "      <th>Transaction Start</th>\n",
       "      <th>Transaction_Result</th>\n",
       "      <th>Amount US$</th>\n",
       "      <th>Individual_Price_US$</th>\n",
       "      <th>Year_Month</th>\n",
       "      <th>Time</th>\n",
       "    </tr>\n",
       "  </thead>\n",
       "  <tbody>\n",
       "    <tr>\n",
       "      <th>0</th>\n",
       "      <td>40170</td>\n",
       "      <td>1348959766</td>\n",
       "      <td>14-11-2013</td>\n",
       "      <td>Hair Band</td>\n",
       "      <td>Female</td>\n",
       "      <td>Web</td>\n",
       "      <td>United States</td>\n",
       "      <td>New York</td>\n",
       "      <td>New York City</td>\n",
       "      <td>Accessories</td>\n",
       "      <td>Member</td>\n",
       "      <td>one-day deliver</td>\n",
       "      <td>12</td>\n",
       "      <td>1</td>\n",
       "      <td>0</td>\n",
       "      <td>6,910</td>\n",
       "      <td>576</td>\n",
       "      <td>13-Nov</td>\n",
       "      <td>22:35:51</td>\n",
       "    </tr>\n",
       "  </tbody>\n",
       "</table>\n",
       "</div>"
      ],
      "text/plain": [
       "   Transaction_id  customer_id        Date    Product  Gender Device_Type  \\\n",
       "0           40170   1348959766  14-11-2013  Hair Band  Female         Web   \n",
       "\n",
       "         Country     State           City     Category Customer_Login_type  \\\n",
       "0  United States  New York  New York City  Accessories              Member   \n",
       "\n",
       "     Delivery_Type   Quantity   Transaction Start  Transaction_Result  \\\n",
       "0  one-day deliver          12                  1                   0   \n",
       "\n",
       "  Amount US$ Individual_Price_US$ Year_Month      Time  \n",
       "0      6,910                  576     13-Nov  22:35:51  "
      ]
     },
     "execution_count": 2,
     "metadata": {},
     "output_type": "execute_result"
    }
   ],
   "source": [
    "df = pd.read_csv('Us_Ecommerce_Dataset.csv')\n",
    "df.head(1)"
   ]
  },
  {
   "cell_type": "markdown",
   "id": "08a1e253",
   "metadata": {},
   "source": [
    "## Data Pre-Processing"
   ]
  },
  {
   "cell_type": "markdown",
   "id": "b6a88b26",
   "metadata": {},
   "source": [
    "### Shape of the dataframe"
   ]
  },
  {
   "cell_type": "code",
   "execution_count": 3,
   "id": "bec4f1da",
   "metadata": {},
   "outputs": [
    {
     "data": {
      "text/plain": [
       "(65535, 19)"
      ]
     },
     "execution_count": 3,
     "metadata": {},
     "output_type": "execute_result"
    }
   ],
   "source": [
    "df.shape"
   ]
  },
  {
   "cell_type": "markdown",
   "id": "70cd8cac",
   "metadata": {},
   "source": [
    "### Columns formatting"
   ]
  },
  {
   "cell_type": "code",
   "execution_count": 4,
   "id": "9c19d5e7",
   "metadata": {},
   "outputs": [],
   "source": [
    "# Renaming columns for easy use\n",
    "df.rename(columns={'Amount US$': 'Amount', 'Individual_Price_US$': 'Individual_Price',\n",
    "                   'Transaction Start' : 'Transaction_Start'}, inplace=True)\n",
    "\n",
    "# Removing space to the left and right of columns names to avoid errors\n",
    "df.columns = df.columns.str.lstrip()\n",
    "df.columns = df.columns.str.rstrip()"
   ]
  },
  {
   "cell_type": "markdown",
   "id": "62f3efdf",
   "metadata": {},
   "source": [
    "### Formatting datatypes"
   ]
  },
  {
   "cell_type": "code",
   "execution_count": 5,
   "id": "0f054918",
   "metadata": {},
   "outputs": [
    {
     "name": "stdout",
     "output_type": "stream",
     "text": [
      "<class 'pandas.core.frame.DataFrame'>\n",
      "RangeIndex: 65535 entries, 0 to 65534\n",
      "Data columns (total 19 columns):\n",
      " #   Column               Non-Null Count  Dtype \n",
      "---  ------               --------------  ----- \n",
      " 0   Transaction_id       65535 non-null  int64 \n",
      " 1   customer_id          65535 non-null  int64 \n",
      " 2   Date                 65535 non-null  object\n",
      " 3   Product              65535 non-null  object\n",
      " 4   Gender               65535 non-null  object\n",
      " 5   Device_Type          65535 non-null  object\n",
      " 6   Country              65535 non-null  object\n",
      " 7   State                65535 non-null  object\n",
      " 8   City                 65535 non-null  object\n",
      " 9   Category             65535 non-null  object\n",
      " 10  Customer_Login_type  65535 non-null  object\n",
      " 11  Delivery_Type        65535 non-null  object\n",
      " 12  Quantity             65535 non-null  int64 \n",
      " 13  Transaction_Start    65535 non-null  int64 \n",
      " 14  Transaction_Result   65535 non-null  int64 \n",
      " 15  Amount               65535 non-null  object\n",
      " 16  Individual_Price     65535 non-null  object\n",
      " 17  Year_Month           65535 non-null  object\n",
      " 18  Time                 65535 non-null  object\n",
      "dtypes: int64(5), object(14)\n",
      "memory usage: 9.5+ MB\n"
     ]
    }
   ],
   "source": [
    "df.info()"
   ]
  },
  {
   "cell_type": "markdown",
   "id": "fc253e0a",
   "metadata": {},
   "source": [
    "Changing datatypes of `Amount` and `Individual Price` to `int` <br>\n",
    "Changing datatypes of `Transaction_id` and `customer_id` to `object`\n",
    "\n",
    "As for as datatypes of columns `Date` and `Time` is concerned, we will change it further down when neccessary."
   ]
  },
  {
   "cell_type": "code",
   "execution_count": 6,
   "id": "3606c764",
   "metadata": {},
   "outputs": [],
   "source": [
    "df['Amount'] = df['Amount'].str.replace(',','')\n",
    "df['Individual_Price'] = df['Individual_Price'].str.replace(',','')\n",
    "\n",
    "df['Date'] = df['Date'] + df['Time']\n",
    "\n",
    "df['Amount'] = df['Amount'].astype(int)\n",
    "df['Individual_Price'] = df['Individual_Price'].astype(int)\n",
    "df['Transaction_id'] = df['Transaction_id'].astype(str)\n",
    "df['customer_id'] = df['customer_id'].astype(str)"
   ]
  },
  {
   "cell_type": "markdown",
   "id": "355eb591",
   "metadata": {},
   "source": [
    "### Missing Values"
   ]
  },
  {
   "cell_type": "code",
   "execution_count": 7,
   "id": "feafe867",
   "metadata": {},
   "outputs": [
    {
     "data": {
      "text/plain": [
       "Transaction_id         0\n",
       "customer_id            0\n",
       "Date                   0\n",
       "Product                0\n",
       "Gender                 0\n",
       "Device_Type            0\n",
       "Country                0\n",
       "State                  0\n",
       "City                   0\n",
       "Category               0\n",
       "Customer_Login_type    0\n",
       "Delivery_Type          0\n",
       "Quantity               0\n",
       "Transaction_Start      0\n",
       "Transaction_Result     0\n",
       "Amount                 0\n",
       "Individual_Price       0\n",
       "Year_Month             0\n",
       "Time                   0\n",
       "dtype: int64"
      ]
     },
     "execution_count": 7,
     "metadata": {},
     "output_type": "execute_result"
    }
   ],
   "source": [
    "df.isnull().sum()"
   ]
  },
  {
   "cell_type": "markdown",
   "id": "f5cf467b",
   "metadata": {},
   "source": [
    "There are no missing values in the data"
   ]
  },
  {
   "cell_type": "markdown",
   "id": "b56e85f1",
   "metadata": {},
   "source": [
    "### Removing duplicate customer id's"
   ]
  },
  {
   "cell_type": "code",
   "execution_count": 8,
   "id": "3ddb2cdc",
   "metadata": {},
   "outputs": [
    {
     "data": {
      "text/plain": [
       "customer_id\n",
       "1190165768      [New York, California]\n",
       "1304414175    [California, Washington]\n",
       "1364723379      [New York, Washington]\n",
       "1454398544      [New York, Washington]\n",
       "1454833377      [New York, Washington]\n",
       "1497121840      [New York, Washington]\n",
       "1506832198    [California, Washington]\n",
       "1536263945      [New York, Washington]\n",
       "1538313965      [New York, Washington]\n",
       "1611232731    [California, Washington]\n",
       "1764514840      [New York, Washington]\n",
       "1781023755    [California, Washington]\n",
       "2074849438    [Washington, California]\n",
       "2075814986    [California, Washington]\n",
       "2164428677      [New York, Washington]\n",
       "2187409742    [California, Washington]\n",
       "2198399940    [California, Washington]\n",
       "Name: State, dtype: object"
      ]
     },
     "execution_count": 8,
     "metadata": {},
     "output_type": "execute_result"
    }
   ],
   "source": [
    "Customers = df.groupby('customer_id')['State'].unique()\n",
    "c = Customers.loc[Customers.apply(lambda x:len(x)>1)]\n",
    "c"
   ]
  },
  {
   "cell_type": "code",
   "execution_count": 9,
   "id": "30b81257",
   "metadata": {},
   "outputs": [
    {
     "data": {
      "text/plain": [
       "Series([], Name: State, dtype: object)"
      ]
     },
     "execution_count": 9,
     "metadata": {},
     "output_type": "execute_result"
    }
   ],
   "source": [
    "for i in range(len(c)):\n",
    "    ind = df['customer_id'][df['customer_id'] == c.index[i]].index\n",
    "    df = df.drop(ind)\n",
    "    \n",
    "Customers = df.groupby('customer_id')['State'].unique()\n",
    "Customers.loc[Customers.apply(lambda x:len(x)>1)]"
   ]
  },
  {
   "cell_type": "markdown",
   "id": "5f93a0c8",
   "metadata": {},
   "source": [
    "### Removal of Insignificant variables"
   ]
  },
  {
   "cell_type": "markdown",
   "id": "827f2d55",
   "metadata": {},
   "source": [
    "Columns `Country`,`State`,`Transaction_Start` are not neccesary.<br>\n",
    "Because Country is one value USA<br>\n",
    "And Transaction_Start is one value (1)<br>\n",
    "Also there is only one `City` corresponding to each state.\n",
    "So we remove columns `Country` and `State` \n",
    "Removing `Time` column, since we combined Date and Time into a single column"
   ]
  },
  {
   "cell_type": "code",
   "execution_count": 10,
   "id": "27f83cc7",
   "metadata": {},
   "outputs": [],
   "source": [
    "df = df.drop(['Country','State','Transaction_Start','Time'], axis = 1)"
   ]
  },
  {
   "cell_type": "markdown",
   "id": "8b6bfa38",
   "metadata": {},
   "source": [
    "## EDA"
   ]
  },
  {
   "cell_type": "markdown",
   "id": "5da1bedf",
   "metadata": {},
   "source": [
    "#### What is the gender ratio ?"
   ]
  },
  {
   "cell_type": "code",
   "execution_count": 12,
   "id": "d52d8867",
   "metadata": {},
   "outputs": [
    {
     "data": {
      "image/png": "[encoded data removed]",
      "text/plain": [
       "<Figure size 1080x576 with 1 Axes>"
      ]
     },
     "metadata": {},
     "output_type": "display_data"
    }
   ],
   "source": [
    "plt.figure(figsize = (15,8))\n",
    "plt.pie(df['Gender'].value_counts(), labels = df['Gender'].value_counts().index, autopct = '%1.1f%%')\n",
    "plt.title('Gender Ratio')\n",
    "plt.show()"
   ]
  },
  {
   "cell_type": "markdown",
   "id": "894a1975",
   "metadata": {},
   "source": [
    "There are **56.9%** Male and **43.1%** Female in the dataset"
   ]
  },
  {
   "cell_type": "markdown",
   "id": "b82885d8",
   "metadata": {},
   "source": [
    "#### What is the active number of customers each month ?"
   ]
  },
  {
   "cell_type": "code",
   "execution_count": 13,
   "id": "46c2198b",
   "metadata": {},
   "outputs": [
    {
     "data": {
      "image/png": "[encoded data removed]",
      "text/plain": [
       "<Figure size 1080x576 with 1 Axes>"
      ]
     },
     "metadata": {
      "needs_background": "light"
     },
     "output_type": "display_data"
    },
    {
     "data": {
      "text/plain": [
       "Year_Month\n",
       "13-Dec    19321\n",
       "13-Nov    22405\n",
       "13-Oct    16477\n",
       "13-Sep     4032\n",
       "14-Jan     2995\n",
       "Name: customer_id, dtype: int64"
      ]
     },
     "execution_count": 13,
     "metadata": {},
     "output_type": "execute_result"
    }
   ],
   "source": [
    "plt.figure(figsize = (15,8))\n",
    "month_cohort = df.groupby('Year_Month')['customer_id'].nunique()\n",
    "\n",
    "sns.barplot(y = month_cohort.index, x = month_cohort.values);\n",
    "plt.xlabel(\"Count of customers\")\n",
    "plt.title(\"No. of active customers in each month\")\n",
    "plt.show()\n",
    "\n",
    "month_cohort"
   ]
  },
  {
   "cell_type": "markdown",
   "id": "99383918",
   "metadata": {},
   "source": [
    "The month of November has the highest active customers"
   ]
  },
  {
   "cell_type": "markdown",
   "id": "d324db42",
   "metadata": {},
   "source": [
    "#### What are the top selling products by Quantity and by Value ?"
   ]
  },
  {
   "cell_type": "code",
   "execution_count": 14,
   "id": "718cbd7d",
   "metadata": {},
   "outputs": [
    {
     "data": {
      "image/png": "[encoded data removed]",
      "text/plain": [
       "<Figure size 864x864 with 2 Axes>"
      ]
     },
     "metadata": {
      "needs_background": "light"
     },
     "output_type": "display_data"
    }
   ],
   "source": [
    "TopQuan = df.groupby('Product')['Quantity'].agg('sum').sort_values(ascending=False)\n",
    "TopPrice = df.groupby('Product')['Amount'].agg('sum').sort_values(ascending=False)\n",
    "\n",
    "fig,axs = plt.subplots(nrows=2, ncols=1, figsize = (12,12))\n",
    "plt.subplots_adjust(hspace = 0.3)\n",
    "\n",
    "\n",
    "sns.barplot(x=TopQuan.values, y=TopQuan.index, ax= axs[0]).set(xlabel='Total amount of sales')\n",
    "axs[0].set_title('By Quantity', size=12, fontweight = 'bold')\n",
    "sns.barplot(x=TopPrice.values, y=TopPrice.index, ax= axs[1]).set(xlabel='Total value of sales')\n",
    "axs[1].set_title('By Value', size=12, fontweight = 'bold')\n",
    "plt.show()"
   ]
  },
  {
   "cell_type": "markdown",
   "id": "cd7c6d7a",
   "metadata": {},
   "source": [
    "**Fairness Cream** is the highest Selling product both by Quantity and Value"
   ]
  },
  {
   "cell_type": "markdown",
   "id": "d7270b4f",
   "metadata": {},
   "source": [
    "#### Relationship between Individual Price of Product and Quantity ?"
   ]
  },
  {
   "cell_type": "code",
   "execution_count": 15,
   "id": "8d6805c1",
   "metadata": {},
   "outputs": [
    {
     "data": {
      "text/plain": [
       "<Figure size 1080x576 with 0 Axes>"
      ]
     },
     "metadata": {},
     "output_type": "display_data"
    },
    {
     "data": {
      "image/png": "[encoded data removed]",
      "text/plain": [
       "<Figure size 504x504 with 3 Axes>"
      ]
     },
     "metadata": {
      "needs_background": "light"
     },
     "output_type": "display_data"
    }
   ],
   "source": [
    "plt.figure(figsize = (15,8))\n",
    "Corr = sns.jointplot(x=\"Quantity\", y=\"Individual_Price\", data = df[df.Individual_Price>0], height = 7)\n",
    "Corr.fig.suptitle(\"Individual Price and Quantity Comparison\", fontsize = 15, y = 1.1)\n",
    "plt.show()"
   ]
  },
  {
   "cell_type": "markdown",
   "id": "5fc3104b",
   "metadata": {},
   "source": [
    "#### Which delivery type is most preferred by customers ?"
   ]
  },
  {
   "cell_type": "code",
   "execution_count": 16,
   "id": "4370038f",
   "metadata": {},
   "outputs": [
    {
     "data": {
      "image/png": "[encoded data removed]",
      "text/plain": [
       "<Figure size 1080x576 with 1 Axes>"
      ]
     },
     "metadata": {
      "needs_background": "light"
     },
     "output_type": "display_data"
    }
   ],
   "source": [
    "plt.figure(figsize = (15,8))\n",
    "sns.countplot(df[\"Delivery_Type\"])\n",
    "plt.xlabel(\"Amount\")\n",
    "plt.ylabel(\"Highest Sales\")\n",
    "plt.title(\"Highest Sales in Delivery_Type\")\n",
    "plt.show()"
   ]
  },
  {
   "cell_type": "markdown",
   "id": "39fc5f9a",
   "metadata": {},
   "source": [
    "**One-day Delivery** is most preferred by customers"
   ]
  },
  {
   "cell_type": "markdown",
   "id": "c99a1544",
   "metadata": {},
   "source": [
    "#### What is the gender wise ratio in regards to the Customer login type?"
   ]
  },
  {
   "cell_type": "code",
   "execution_count": 17,
   "id": "b0513ba2",
   "metadata": {},
   "outputs": [
    {
     "data": {
      "image/png": "[encoded data removed]",
      "text/plain": [
       "<Figure size 1080x576 with 1 Axes>"
      ]
     },
     "metadata": {
      "needs_background": "light"
     },
     "output_type": "display_data"
    }
   ],
   "source": [
    "plt.figure(figsize = (15,8))\n",
    "sns.countplot(x='Customer_Login_type', data= df, hue='Gender').set(title='Gender wise Login Type')\n",
    "plt.show()"
   ]
  },
  {
   "cell_type": "markdown",
   "id": "1c5424b9",
   "metadata": {},
   "source": [
    "- Member Customers are mostly male\n",
    "- First Sign Up Customers are mostly Female\n",
    "- New Female Customers are more than Men"
   ]
  },
  {
   "cell_type": "markdown",
   "id": "84d93f8c",
   "metadata": {},
   "source": [
    "#### What is the category wise bifurcation of the products sold recorded for each month?"
   ]
  },
  {
   "cell_type": "code",
   "execution_count": 18,
   "id": "3f18b7c5",
   "metadata": {},
   "outputs": [
    {
     "data": {
      "image/png": "[encoded data removed]",
      "text/plain": [
       "<Figure size 1080x576 with 1 Axes>"
      ]
     },
     "metadata": {
      "needs_background": "light"
     },
     "output_type": "display_data"
    }
   ],
   "source": [
    "plt.figure(figsize = (15,8))\n",
    "sns.countplot(x='Year_Month', data= df, hue='Category').set(title='Category sales each month')\n",
    "plt.show()"
   ]
  },
  {
   "cell_type": "markdown",
   "id": "da5606d5",
   "metadata": {},
   "source": [
    "- September - Clothing\n",
    "- October - Fashion\n",
    "- November - Fashion\n",
    "- December - Fashion\n",
    "- January - Fashion"
   ]
  },
  {
   "cell_type": "markdown",
   "id": "8e2ecb49",
   "metadata": {},
   "source": [
    "#### Which Products sold highest in each month ?"
   ]
  },
  {
   "cell_type": "code",
   "execution_count": 19,
   "id": "6336be02",
   "metadata": {},
   "outputs": [
    {
     "data": {
      "image/png": "[encoded data removed]",
      "text/plain": [
       "<Figure size 1080x576 with 1 Axes>"
      ]
     },
     "metadata": {
      "needs_background": "light"
     },
     "output_type": "display_data"
    }
   ],
   "source": [
    "plt.figure(figsize = (15,8))\n",
    "sns.countplot(x='Year_Month', data= df, hue='Product').set(title='Product sales each month')\n",
    "plt.show()"
   ]
  },
  {
   "cell_type": "markdown",
   "id": "9c946af6",
   "metadata": {},
   "source": [
    "- September - Shirt\n",
    "- October - Fairness Cream\n",
    "- November - Fairness Cream\n",
    "- December - Fairness Cream\n",
    "- January - Shirt"
   ]
  },
  {
   "cell_type": "markdown",
   "id": "c73856c8",
   "metadata": {},
   "source": [
    "#### Which month has a surge in sales and which month has decline in sales ?"
   ]
  },
  {
   "cell_type": "code",
   "execution_count": 20,
   "id": "d886e4e6",
   "metadata": {},
   "outputs": [
    {
     "data": {
      "image/png": "[encoded data removed]",
      "text/plain": [
       "<Figure size 1080x576 with 1 Axes>"
      ]
     },
     "metadata": {
      "needs_background": "light"
     },
     "output_type": "display_data"
    }
   ],
   "source": [
    "plt.figure(figsize = (15,8))\n",
    "sns.countplot(df['Year_Month'])\n",
    "plt.xlabel(\"Month\")\n",
    "plt.ylabel(\"Surge in Sales\")\n",
    "plt.title('Highest & Lowest Sales Month')\n",
    "plt.show()"
   ]
  },
  {
   "cell_type": "markdown",
   "id": "1a2455cb",
   "metadata": {},
   "source": [
    "- Highest Sales Month : November (Beginning of holiday season)\n",
    "- Lowest Sales Month : January (End of holiday season)"
   ]
  },
  {
   "cell_type": "markdown",
   "id": "b7efcd0d",
   "metadata": {},
   "source": [
    "#### Gender wise analysis of product category bought?"
   ]
  },
  {
   "cell_type": "code",
   "execution_count": 21,
   "id": "72b18222",
   "metadata": {},
   "outputs": [
    {
     "data": {
      "image/png": "[encoded data removed]",
      "text/plain": [
       "<Figure size 1080x576 with 1 Axes>"
      ]
     },
     "metadata": {
      "needs_background": "light"
     },
     "output_type": "display_data"
    }
   ],
   "source": [
    "plt.figure(figsize = (15,8))\n",
    "sns.countplot(x='Category', data= df, hue='Gender').set(title='Gender wise category bought')\n",
    "plt.show()"
   ]
  },
  {
   "cell_type": "markdown",
   "id": "1e300d9f",
   "metadata": {},
   "source": [
    "- Most Preferred Category by Male : Clothing\n",
    "- Least Preferred Categories by Male : Accessories, House hold, Vehicle, Wearables\n",
    "- Most Preferred Category by Female : Fashion\n",
    "- Least Preferred Categories by Female : Vehicle, Stationaries, Electronics"
   ]
  },
  {
   "cell_type": "markdown",
   "id": "1f470273",
   "metadata": {},
   "source": [
    "#### What type of delivery do guests mostly opt for ?"
   ]
  },
  {
   "cell_type": "code",
   "execution_count": 22,
   "id": "c430909e",
   "metadata": {},
   "outputs": [
    {
     "data": {
      "image/png": "[encoded data removed]",
      "text/plain": [
       "<Figure size 1080x360 with 1 Axes>"
      ]
     },
     "metadata": {
      "needs_background": "light"
     },
     "output_type": "display_data"
    }
   ],
   "source": [
    "plt.figure(figsize= (15,5))\n",
    "\n",
    "sns.countplot(y='Customer_Login_type', data= df, hue='Delivery_Type').set(title='Delivery preference')\n",
    "plt.show()"
   ]
  },
  {
   "cell_type": "markdown",
   "id": "00964aae",
   "metadata": {},
   "source": [
    "Guest Login type customers prefer One-day Delivery"
   ]
  },
  {
   "cell_type": "markdown",
   "id": "37964475",
   "metadata": {},
   "source": [
    "#### Which device type has maximum failed transactions ? "
   ]
  },
  {
   "cell_type": "code",
   "execution_count": 23,
   "id": "d1c1848c",
   "metadata": {},
   "outputs": [
    {
     "data": {
      "text/html": [
       "<div>\n",
       "<style scoped>\n",
       "    .dataframe tbody tr th:only-of-type {\n",
       "        vertical-align: middle;\n",
       "    }\n",
       "\n",
       "    .dataframe tbody tr th {\n",
       "        vertical-align: top;\n",
       "    }\n",
       "\n",
       "    .dataframe thead th {\n",
       "        text-align: right;\n",
       "    }\n",
       "</style>\n",
       "<table border=\"1\" class=\"dataframe\">\n",
       "  <thead>\n",
       "    <tr style=\"text-align: right;\">\n",
       "      <th></th>\n",
       "      <th></th>\n",
       "      <th>Transaction_Result</th>\n",
       "    </tr>\n",
       "    <tr>\n",
       "      <th>Device_Type</th>\n",
       "      <th>Transaction_Result</th>\n",
       "      <th></th>\n",
       "    </tr>\n",
       "  </thead>\n",
       "  <tbody>\n",
       "    <tr>\n",
       "      <th rowspan=\"2\" valign=\"top\">Mobile</th>\n",
       "      <th>0</th>\n",
       "      <td>1795</td>\n",
       "    </tr>\n",
       "    <tr>\n",
       "      <th>1</th>\n",
       "      <td>10744</td>\n",
       "    </tr>\n",
       "    <tr>\n",
       "      <th rowspan=\"2\" valign=\"top\">Web</th>\n",
       "      <th>0</th>\n",
       "      <td>6893</td>\n",
       "    </tr>\n",
       "    <tr>\n",
       "      <th>1</th>\n",
       "      <td>46068</td>\n",
       "    </tr>\n",
       "  </tbody>\n",
       "</table>\n",
       "</div>"
      ],
      "text/plain": [
       "                                Transaction_Result\n",
       "Device_Type Transaction_Result                    \n",
       "Mobile      0                                 1795\n",
       "            1                                10744\n",
       "Web         0                                 6893\n",
       "            1                                46068"
      ]
     },
     "execution_count": 23,
     "metadata": {},
     "output_type": "execute_result"
    }
   ],
   "source": [
    "d = df.groupby(['Device_Type','Transaction_Result'])[['Transaction_Result']].count()\n",
    "d"
   ]
  },
  {
   "cell_type": "code",
   "execution_count": 24,
   "id": "f8650626",
   "metadata": {},
   "outputs": [
    {
     "name": "stdout",
     "output_type": "stream",
     "text": [
      "Percentage of failed transactions in Mobile is 16.70699925539836\n",
      "Percentage of failed transactions in Web is 14.96266388816532\n"
     ]
    }
   ],
   "source": [
    "per_fail_mob = (d['Transaction_Result'][0] / d['Transaction_Result'][1]) * 100\n",
    "per_fail_web = (d['Transaction_Result'][2] / d['Transaction_Result'][3]) * 100\n",
    "\n",
    "print(\"Percentage of failed transactions in Mobile is\",per_fail_mob)\n",
    "print(\"Percentage of failed transactions in Web is\",per_fail_web)"
   ]
  },
  {
   "cell_type": "markdown",
   "id": "1bb01ce8",
   "metadata": {},
   "source": [
    "Web has high failed transactions than mobile<br>\n",
    "But number of transactions are less in mobile."
   ]
  },
  {
   "cell_type": "markdown",
   "id": "09626824",
   "metadata": {},
   "source": [
    "#### What is the Retention Rate of customers in each month ?"
   ]
  },
  {
   "cell_type": "code",
   "execution_count": 25,
   "id": "b79d774c",
   "metadata": {},
   "outputs": [
    {
     "data": {
      "text/plain": [
       "Year_Month\n",
       "13-Dec      NaN\n",
       "13-Nov    15.96\n",
       "13-Oct   -26.46\n",
       "13-Sep   -75.53\n",
       "14-Jan   -25.72\n",
       "Name: customer_id, dtype: float64"
      ]
     },
     "execution_count": 25,
     "metadata": {},
     "output_type": "execute_result"
    }
   ],
   "source": [
    "retention_rate = round(month_cohort.pct_change(periods=1)*100,2)\n",
    "retention_rate"
   ]
  },
  {
   "cell_type": "code",
   "execution_count": 26,
   "id": "607cf3c3",
   "metadata": {},
   "outputs": [
    {
     "data": {
      "image/png": "[encoded data removed]",
      "text/plain": [
       "<Figure size 720x360 with 1 Axes>"
      ]
     },
     "metadata": {
      "needs_background": "light"
     },
     "output_type": "display_data"
    }
   ],
   "source": [
    "plt.figure(figsize=(10,5))\n",
    "sns.barplot(y = retention_rate.index, x = retention_rate.values);\n",
    "plt.xlabel(\"Retention (in %)\")\n",
    "plt.title(\"Month-wise customer retention rate\");"
   ]
  },
  {
   "cell_type": "markdown",
   "id": "a623d2a2",
   "metadata": {},
   "source": [
    "The retention rate is less than zero for all months except November. This signifies that the frequency of customers purchasing prodcts is very less"
   ]
  },
  {
   "cell_type": "markdown",
   "id": "4f18a7db",
   "metadata": {},
   "source": [
    "## Statistical significance of variables"
   ]
  },
  {
   "cell_type": "markdown",
   "id": "43b4f4b4",
   "metadata": {},
   "source": [
    "Here we’ve performed the hypothesis testing with respect to the dependent variable with independent variables. \n",
    "\n",
    "Null Hypothesis (H0): The independent variable column and dependent variable column are related<br>\n",
    "Alternate Hypothesis(H1): The independent variable column and the dependent variable column are not related.\n",
    "\n",
    "The confidence level is 95% and so the alpha is 0.05\n",
    "\n",
    "If the pvalue is less than alpha, we reject the null hypothesis <br>\n",
    "If the pvalue is greater than alpha, we fail to reject the null hypothesis"
   ]
  },
  {
   "cell_type": "markdown",
   "id": "b47eeebb",
   "metadata": {},
   "source": [
    "`Transaction Result` is the dependent column, so checking the relationship of it with all other independent variables"
   ]
  },
  {
   "cell_type": "markdown",
   "id": "8ed46b3d",
   "metadata": {},
   "source": [
    "#### Transaction Result and Product"
   ]
  },
  {
   "cell_type": "code",
   "execution_count": 23,
   "id": "6bf28e65",
   "metadata": {},
   "outputs": [
    {
     "data": {
      "text/html": [
       "<div>\n",
       "<style scoped>\n",
       "    .dataframe tbody tr th:only-of-type {\n",
       "        vertical-align: middle;\n",
       "    }\n",
       "\n",
       "    .dataframe tbody tr th {\n",
       "        vertical-align: top;\n",
       "    }\n",
       "\n",
       "    .dataframe thead th {\n",
       "        text-align: right;\n",
       "    }\n",
       "</style>\n",
       "<table border=\"1\" class=\"dataframe\">\n",
       "  <thead>\n",
       "    <tr style=\"text-align: right;\">\n",
       "      <th></th>\n",
       "      <th>df</th>\n",
       "      <th>sum_sq</th>\n",
       "      <th>mean_sq</th>\n",
       "      <th>F</th>\n",
       "      <th>PR(&gt;F)</th>\n",
       "    </tr>\n",
       "  </thead>\n",
       "  <tbody>\n",
       "    <tr>\n",
       "      <th>Product</th>\n",
       "      <td>11.0</td>\n",
       "      <td>23.821376</td>\n",
       "      <td>2.165580</td>\n",
       "      <td>18.879581</td>\n",
       "      <td>2.202824e-38</td>\n",
       "    </tr>\n",
       "    <tr>\n",
       "      <th>Residual</th>\n",
       "      <td>65488.0</td>\n",
       "      <td>7511.791693</td>\n",
       "      <td>0.114705</td>\n",
       "      <td>NaN</td>\n",
       "      <td>NaN</td>\n",
       "    </tr>\n",
       "  </tbody>\n",
       "</table>\n",
       "</div>"
      ],
      "text/plain": [
       "               df       sum_sq   mean_sq          F        PR(>F)\n",
       "Product      11.0    23.821376  2.165580  18.879581  2.202824e-38\n",
       "Residual  65488.0  7511.791693  0.114705        NaN           NaN"
      ]
     },
     "execution_count": 23,
     "metadata": {},
     "output_type": "execute_result"
    }
   ],
   "source": [
    "model = sfa.ols('Transaction_Result~Product',data = df).fit()\n",
    "anova_lm(model)"
   ]
  },
  {
   "cell_type": "markdown",
   "id": "76b18a4f",
   "metadata": {},
   "source": [
    "P-value is less than 0.05. Hence we accept the null hypothesis.<br>\n",
    "So Transaction Result and Product are `related`."
   ]
  },
  {
   "cell_type": "markdown",
   "id": "bb964600",
   "metadata": {},
   "source": [
    "#### Transaction Result and Gender"
   ]
  },
  {
   "cell_type": "code",
   "execution_count": 24,
   "id": "dc0935a9",
   "metadata": {},
   "outputs": [
    {
     "data": {
      "text/html": [
       "<div>\n",
       "<style scoped>\n",
       "    .dataframe tbody tr th:only-of-type {\n",
       "        vertical-align: middle;\n",
       "    }\n",
       "\n",
       "    .dataframe tbody tr th {\n",
       "        vertical-align: top;\n",
       "    }\n",
       "\n",
       "    .dataframe thead th {\n",
       "        text-align: right;\n",
       "    }\n",
       "</style>\n",
       "<table border=\"1\" class=\"dataframe\">\n",
       "  <thead>\n",
       "    <tr style=\"text-align: right;\">\n",
       "      <th></th>\n",
       "      <th>df</th>\n",
       "      <th>sum_sq</th>\n",
       "      <th>mean_sq</th>\n",
       "      <th>F</th>\n",
       "      <th>PR(&gt;F)</th>\n",
       "    </tr>\n",
       "  </thead>\n",
       "  <tbody>\n",
       "    <tr>\n",
       "      <th>Gender</th>\n",
       "      <td>1.0</td>\n",
       "      <td>5.269603</td>\n",
       "      <td>5.269603</td>\n",
       "      <td>45.834356</td>\n",
       "      <td>1.297672e-11</td>\n",
       "    </tr>\n",
       "    <tr>\n",
       "      <th>Residual</th>\n",
       "      <td>65498.0</td>\n",
       "      <td>7530.343466</td>\n",
       "      <td>0.114971</td>\n",
       "      <td>NaN</td>\n",
       "      <td>NaN</td>\n",
       "    </tr>\n",
       "  </tbody>\n",
       "</table>\n",
       "</div>"
      ],
      "text/plain": [
       "               df       sum_sq   mean_sq          F        PR(>F)\n",
       "Gender        1.0     5.269603  5.269603  45.834356  1.297672e-11\n",
       "Residual  65498.0  7530.343466  0.114971        NaN           NaN"
      ]
     },
     "execution_count": 24,
     "metadata": {},
     "output_type": "execute_result"
    }
   ],
   "source": [
    "model = sfa.ols('Transaction_Result~Gender',data = df).fit()\n",
    "anova_lm(model)"
   ]
  },
  {
   "cell_type": "markdown",
   "id": "047a6be2",
   "metadata": {},
   "source": [
    "P-value is less than 0.05. Hence we accept the null hypothesis.<br>\n",
    "So Transaction Result and Gender are `related`."
   ]
  },
  {
   "cell_type": "markdown",
   "id": "79f5589c",
   "metadata": {},
   "source": [
    "#### Transaction Result and Device Type"
   ]
  },
  {
   "cell_type": "code",
   "execution_count": 25,
   "id": "6cd5941a",
   "metadata": {},
   "outputs": [
    {
     "data": {
      "text/html": [
       "<div>\n",
       "<style scoped>\n",
       "    .dataframe tbody tr th:only-of-type {\n",
       "        vertical-align: middle;\n",
       "    }\n",
       "\n",
       "    .dataframe tbody tr th {\n",
       "        vertical-align: top;\n",
       "    }\n",
       "\n",
       "    .dataframe thead th {\n",
       "        text-align: right;\n",
       "    }\n",
       "</style>\n",
       "<table border=\"1\" class=\"dataframe\">\n",
       "  <thead>\n",
       "    <tr style=\"text-align: right;\">\n",
       "      <th></th>\n",
       "      <th>df</th>\n",
       "      <th>sum_sq</th>\n",
       "      <th>mean_sq</th>\n",
       "      <th>F</th>\n",
       "      <th>PR(&gt;F)</th>\n",
       "    </tr>\n",
       "  </thead>\n",
       "  <tbody>\n",
       "    <tr>\n",
       "      <th>Device_Type</th>\n",
       "      <td>1.0</td>\n",
       "      <td>1.713682</td>\n",
       "      <td>1.713682</td>\n",
       "      <td>14.898362</td>\n",
       "      <td>0.000114</td>\n",
       "    </tr>\n",
       "    <tr>\n",
       "      <th>Residual</th>\n",
       "      <td>65498.0</td>\n",
       "      <td>7533.899386</td>\n",
       "      <td>0.115025</td>\n",
       "      <td>NaN</td>\n",
       "      <td>NaN</td>\n",
       "    </tr>\n",
       "  </tbody>\n",
       "</table>\n",
       "</div>"
      ],
      "text/plain": [
       "                  df       sum_sq   mean_sq          F    PR(>F)\n",
       "Device_Type      1.0     1.713682  1.713682  14.898362  0.000114\n",
       "Residual     65498.0  7533.899386  0.115025        NaN       NaN"
      ]
     },
     "execution_count": 25,
     "metadata": {},
     "output_type": "execute_result"
    }
   ],
   "source": [
    "model = sfa.ols('Transaction_Result~Device_Type',data = df).fit()\n",
    "anova_lm(model)"
   ]
  },
  {
   "cell_type": "markdown",
   "id": "ac0a75b9",
   "metadata": {},
   "source": [
    "P-value is less than 0.05. Hence we accept the null hypothesis.<br>\n",
    "So Transaction Result and Device Type are `related`."
   ]
  },
  {
   "cell_type": "markdown",
   "id": "b02d6c9d",
   "metadata": {},
   "source": [
    "#### Transaction Result and City"
   ]
  },
  {
   "cell_type": "code",
   "execution_count": 26,
   "id": "123fe7d0",
   "metadata": {},
   "outputs": [
    {
     "data": {
      "text/html": [
       "<div>\n",
       "<style scoped>\n",
       "    .dataframe tbody tr th:only-of-type {\n",
       "        vertical-align: middle;\n",
       "    }\n",
       "\n",
       "    .dataframe tbody tr th {\n",
       "        vertical-align: top;\n",
       "    }\n",
       "\n",
       "    .dataframe thead th {\n",
       "        text-align: right;\n",
       "    }\n",
       "</style>\n",
       "<table border=\"1\" class=\"dataframe\">\n",
       "  <thead>\n",
       "    <tr style=\"text-align: right;\">\n",
       "      <th></th>\n",
       "      <th>df</th>\n",
       "      <th>sum_sq</th>\n",
       "      <th>mean_sq</th>\n",
       "      <th>F</th>\n",
       "      <th>PR(&gt;F)</th>\n",
       "    </tr>\n",
       "  </thead>\n",
       "  <tbody>\n",
       "    <tr>\n",
       "      <th>City</th>\n",
       "      <td>2.0</td>\n",
       "      <td>40.258723</td>\n",
       "      <td>20.129362</td>\n",
       "      <td>175.897327</td>\n",
       "      <td>6.504062e-77</td>\n",
       "    </tr>\n",
       "    <tr>\n",
       "      <th>Residual</th>\n",
       "      <td>65497.0</td>\n",
       "      <td>7495.354346</td>\n",
       "      <td>0.114438</td>\n",
       "      <td>NaN</td>\n",
       "      <td>NaN</td>\n",
       "    </tr>\n",
       "  </tbody>\n",
       "</table>\n",
       "</div>"
      ],
      "text/plain": [
       "               df       sum_sq    mean_sq           F        PR(>F)\n",
       "City          2.0    40.258723  20.129362  175.897327  6.504062e-77\n",
       "Residual  65497.0  7495.354346   0.114438         NaN           NaN"
      ]
     },
     "execution_count": 26,
     "metadata": {},
     "output_type": "execute_result"
    }
   ],
   "source": [
    "model = sfa.ols('Transaction_Result~City',data = df).fit()\n",
    "anova_lm(model)"
   ]
  },
  {
   "cell_type": "markdown",
   "id": "1080d46e",
   "metadata": {},
   "source": [
    "P-value is less than 0.05. Hence we accept the null hypothesis.<br>\n",
    "So Transaction Result and City are `related`."
   ]
  },
  {
   "cell_type": "markdown",
   "id": "d9415bc0",
   "metadata": {},
   "source": [
    "#### Transaction Result and Category"
   ]
  },
  {
   "cell_type": "code",
   "execution_count": 27,
   "id": "da202684",
   "metadata": {},
   "outputs": [
    {
     "data": {
      "text/html": [
       "<div>\n",
       "<style scoped>\n",
       "    .dataframe tbody tr th:only-of-type {\n",
       "        vertical-align: middle;\n",
       "    }\n",
       "\n",
       "    .dataframe tbody tr th {\n",
       "        vertical-align: top;\n",
       "    }\n",
       "\n",
       "    .dataframe thead th {\n",
       "        text-align: right;\n",
       "    }\n",
       "</style>\n",
       "<table border=\"1\" class=\"dataframe\">\n",
       "  <thead>\n",
       "    <tr style=\"text-align: right;\">\n",
       "      <th></th>\n",
       "      <th>df</th>\n",
       "      <th>sum_sq</th>\n",
       "      <th>mean_sq</th>\n",
       "      <th>F</th>\n",
       "      <th>PR(&gt;F)</th>\n",
       "    </tr>\n",
       "  </thead>\n",
       "  <tbody>\n",
       "    <tr>\n",
       "      <th>Category</th>\n",
       "      <td>7.0</td>\n",
       "      <td>10.685280</td>\n",
       "      <td>1.526469</td>\n",
       "      <td>13.285374</td>\n",
       "      <td>3.084309e-17</td>\n",
       "    </tr>\n",
       "    <tr>\n",
       "      <th>Residual</th>\n",
       "      <td>65492.0</td>\n",
       "      <td>7524.927788</td>\n",
       "      <td>0.114898</td>\n",
       "      <td>NaN</td>\n",
       "      <td>NaN</td>\n",
       "    </tr>\n",
       "  </tbody>\n",
       "</table>\n",
       "</div>"
      ],
      "text/plain": [
       "               df       sum_sq   mean_sq          F        PR(>F)\n",
       "Category      7.0    10.685280  1.526469  13.285374  3.084309e-17\n",
       "Residual  65492.0  7524.927788  0.114898        NaN           NaN"
      ]
     },
     "execution_count": 27,
     "metadata": {},
     "output_type": "execute_result"
    }
   ],
   "source": [
    "model = sfa.ols('Transaction_Result~Category',data = df).fit()\n",
    "anova_lm(model)"
   ]
  },
  {
   "cell_type": "markdown",
   "id": "01119fd0",
   "metadata": {},
   "source": [
    "P-value is less than 0.05. Hence we accept the null hypothesis.<br>\n",
    "So Transaction Result and Category are `related`."
   ]
  },
  {
   "cell_type": "markdown",
   "id": "5c346bab",
   "metadata": {},
   "source": [
    "#### Transaction Result and Customer Login Type"
   ]
  },
  {
   "cell_type": "code",
   "execution_count": 28,
   "id": "85ec368c",
   "metadata": {},
   "outputs": [
    {
     "data": {
      "text/html": [
       "<div>\n",
       "<style scoped>\n",
       "    .dataframe tbody tr th:only-of-type {\n",
       "        vertical-align: middle;\n",
       "    }\n",
       "\n",
       "    .dataframe tbody tr th {\n",
       "        vertical-align: top;\n",
       "    }\n",
       "\n",
       "    .dataframe thead th {\n",
       "        text-align: right;\n",
       "    }\n",
       "</style>\n",
       "<table border=\"1\" class=\"dataframe\">\n",
       "  <thead>\n",
       "    <tr style=\"text-align: right;\">\n",
       "      <th></th>\n",
       "      <th>df</th>\n",
       "      <th>sum_sq</th>\n",
       "      <th>mean_sq</th>\n",
       "      <th>F</th>\n",
       "      <th>PR(&gt;F)</th>\n",
       "    </tr>\n",
       "  </thead>\n",
       "  <tbody>\n",
       "    <tr>\n",
       "      <th>Customer_Login_type</th>\n",
       "      <td>3.0</td>\n",
       "      <td>3.824119</td>\n",
       "      <td>1.274706</td>\n",
       "      <td>11.084773</td>\n",
       "      <td>2.857745e-07</td>\n",
       "    </tr>\n",
       "    <tr>\n",
       "      <th>Residual</th>\n",
       "      <td>65496.0</td>\n",
       "      <td>7531.788950</td>\n",
       "      <td>0.114996</td>\n",
       "      <td>NaN</td>\n",
       "      <td>NaN</td>\n",
       "    </tr>\n",
       "  </tbody>\n",
       "</table>\n",
       "</div>"
      ],
      "text/plain": [
       "                          df       sum_sq   mean_sq          F        PR(>F)\n",
       "Customer_Login_type      3.0     3.824119  1.274706  11.084773  2.857745e-07\n",
       "Residual             65496.0  7531.788950  0.114996        NaN           NaN"
      ]
     },
     "execution_count": 28,
     "metadata": {},
     "output_type": "execute_result"
    }
   ],
   "source": [
    "model = sfa.ols('Transaction_Result~Customer_Login_type',data = df).fit()\n",
    "anova_lm(model)"
   ]
  },
  {
   "cell_type": "markdown",
   "id": "95ca06d5",
   "metadata": {},
   "source": [
    "P-value is less than 0.05. Hence we accept the null hypothesis.<br>\n",
    "So Transaction Result and Customer Login type are `related`."
   ]
  },
  {
   "cell_type": "markdown",
   "id": "41003ed1",
   "metadata": {},
   "source": [
    "#### Transaction Result and Delivery Type"
   ]
  },
  {
   "cell_type": "code",
   "execution_count": 29,
   "id": "c76a5c55",
   "metadata": {},
   "outputs": [
    {
     "data": {
      "text/html": [
       "<div>\n",
       "<style scoped>\n",
       "    .dataframe tbody tr th:only-of-type {\n",
       "        vertical-align: middle;\n",
       "    }\n",
       "\n",
       "    .dataframe tbody tr th {\n",
       "        vertical-align: top;\n",
       "    }\n",
       "\n",
       "    .dataframe thead th {\n",
       "        text-align: right;\n",
       "    }\n",
       "</style>\n",
       "<table border=\"1\" class=\"dataframe\">\n",
       "  <thead>\n",
       "    <tr style=\"text-align: right;\">\n",
       "      <th></th>\n",
       "      <th>df</th>\n",
       "      <th>sum_sq</th>\n",
       "      <th>mean_sq</th>\n",
       "      <th>F</th>\n",
       "      <th>PR(&gt;F)</th>\n",
       "    </tr>\n",
       "  </thead>\n",
       "  <tbody>\n",
       "    <tr>\n",
       "      <th>Delivery_Type</th>\n",
       "      <td>1.0</td>\n",
       "      <td>29.888482</td>\n",
       "      <td>29.888482</td>\n",
       "      <td>260.819027</td>\n",
       "      <td>1.476784e-58</td>\n",
       "    </tr>\n",
       "    <tr>\n",
       "      <th>Residual</th>\n",
       "      <td>65498.0</td>\n",
       "      <td>7505.724587</td>\n",
       "      <td>0.114595</td>\n",
       "      <td>NaN</td>\n",
       "      <td>NaN</td>\n",
       "    </tr>\n",
       "  </tbody>\n",
       "</table>\n",
       "</div>"
      ],
      "text/plain": [
       "                    df       sum_sq    mean_sq           F        PR(>F)\n",
       "Delivery_Type      1.0    29.888482  29.888482  260.819027  1.476784e-58\n",
       "Residual       65498.0  7505.724587   0.114595         NaN           NaN"
      ]
     },
     "execution_count": 29,
     "metadata": {},
     "output_type": "execute_result"
    }
   ],
   "source": [
    "model = sfa.ols('Transaction_Result~Delivery_Type',data = df).fit()\n",
    "anova_lm(model)"
   ]
  },
  {
   "cell_type": "markdown",
   "id": "3f75caf5",
   "metadata": {},
   "source": [
    "P-value is less than 0.05. Hence we accept the null hypothesis.<br>\n",
    "So Transaction Result and Delivery Type are `related`."
   ]
  },
  {
   "cell_type": "markdown",
   "id": "319e87e6",
   "metadata": {},
   "source": [
    "#### Transaction Result and Quantity"
   ]
  },
  {
   "cell_type": "code",
   "execution_count": 30,
   "id": "d3d84dc9",
   "metadata": {},
   "outputs": [
    {
     "data": {
      "text/html": [
       "<div>\n",
       "<style scoped>\n",
       "    .dataframe tbody tr th:only-of-type {\n",
       "        vertical-align: middle;\n",
       "    }\n",
       "\n",
       "    .dataframe tbody tr th {\n",
       "        vertical-align: top;\n",
       "    }\n",
       "\n",
       "    .dataframe thead th {\n",
       "        text-align: right;\n",
       "    }\n",
       "</style>\n",
       "<table border=\"1\" class=\"dataframe\">\n",
       "  <thead>\n",
       "    <tr style=\"text-align: right;\">\n",
       "      <th></th>\n",
       "      <th>df</th>\n",
       "      <th>sum_sq</th>\n",
       "      <th>mean_sq</th>\n",
       "      <th>F</th>\n",
       "      <th>PR(&gt;F)</th>\n",
       "    </tr>\n",
       "  </thead>\n",
       "  <tbody>\n",
       "    <tr>\n",
       "      <th>Quantity</th>\n",
       "      <td>1.0</td>\n",
       "      <td>2.034724</td>\n",
       "      <td>2.034724</td>\n",
       "      <td>17.690179</td>\n",
       "      <td>0.000026</td>\n",
       "    </tr>\n",
       "    <tr>\n",
       "      <th>Residual</th>\n",
       "      <td>65498.0</td>\n",
       "      <td>7533.578345</td>\n",
       "      <td>0.115020</td>\n",
       "      <td>NaN</td>\n",
       "      <td>NaN</td>\n",
       "    </tr>\n",
       "  </tbody>\n",
       "</table>\n",
       "</div>"
      ],
      "text/plain": [
       "               df       sum_sq   mean_sq          F    PR(>F)\n",
       "Quantity      1.0     2.034724  2.034724  17.690179  0.000026\n",
       "Residual  65498.0  7533.578345  0.115020        NaN       NaN"
      ]
     },
     "execution_count": 30,
     "metadata": {},
     "output_type": "execute_result"
    }
   ],
   "source": [
    "model = sfa.ols('Transaction_Result~Quantity',data = df).fit()\n",
    "anova_lm(model)"
   ]
  },
  {
   "cell_type": "markdown",
   "id": "dd49fe71",
   "metadata": {},
   "source": [
    "P-value is less than 0.05. Hence we accept the null hypothesis.<br>\n",
    "So Transaction Result and Quantity are `related`."
   ]
  },
  {
   "cell_type": "markdown",
   "id": "fbf47f43",
   "metadata": {},
   "source": [
    "#### Transaction Result and Amount"
   ]
  },
  {
   "cell_type": "code",
   "execution_count": 31,
   "id": "c25120d3",
   "metadata": {},
   "outputs": [
    {
     "data": {
      "text/html": [
       "<div>\n",
       "<style scoped>\n",
       "    .dataframe tbody tr th:only-of-type {\n",
       "        vertical-align: middle;\n",
       "    }\n",
       "\n",
       "    .dataframe tbody tr th {\n",
       "        vertical-align: top;\n",
       "    }\n",
       "\n",
       "    .dataframe thead th {\n",
       "        text-align: right;\n",
       "    }\n",
       "</style>\n",
       "<table border=\"1\" class=\"dataframe\">\n",
       "  <thead>\n",
       "    <tr style=\"text-align: right;\">\n",
       "      <th></th>\n",
       "      <th>df</th>\n",
       "      <th>sum_sq</th>\n",
       "      <th>mean_sq</th>\n",
       "      <th>F</th>\n",
       "      <th>PR(&gt;F)</th>\n",
       "    </tr>\n",
       "  </thead>\n",
       "  <tbody>\n",
       "    <tr>\n",
       "      <th>Amount</th>\n",
       "      <td>1.0</td>\n",
       "      <td>0.052798</td>\n",
       "      <td>0.052798</td>\n",
       "      <td>0.458911</td>\n",
       "      <td>0.498136</td>\n",
       "    </tr>\n",
       "    <tr>\n",
       "      <th>Residual</th>\n",
       "      <td>65498.0</td>\n",
       "      <td>7535.560271</td>\n",
       "      <td>0.115050</td>\n",
       "      <td>NaN</td>\n",
       "      <td>NaN</td>\n",
       "    </tr>\n",
       "  </tbody>\n",
       "</table>\n",
       "</div>"
      ],
      "text/plain": [
       "               df       sum_sq   mean_sq         F    PR(>F)\n",
       "Amount        1.0     0.052798  0.052798  0.458911  0.498136\n",
       "Residual  65498.0  7535.560271  0.115050       NaN       NaN"
      ]
     },
     "execution_count": 31,
     "metadata": {},
     "output_type": "execute_result"
    }
   ],
   "source": [
    "model = sfa.ols('Transaction_Result~Amount',data = df).fit()\n",
    "anova_lm(model)"
   ]
  },
  {
   "cell_type": "markdown",
   "id": "e0e03133",
   "metadata": {},
   "source": [
    "P-value is greater than 0.05. Hence we reject the null hypothesis.<br>\n",
    "So Transaction Result and Amount are `not related`."
   ]
  },
  {
   "cell_type": "markdown",
   "id": "fab2b42d",
   "metadata": {},
   "source": [
    "#### Transaction Result and Individual Price"
   ]
  },
  {
   "cell_type": "code",
   "execution_count": 32,
   "id": "4d86819a",
   "metadata": {},
   "outputs": [
    {
     "data": {
      "text/html": [
       "<div>\n",
       "<style scoped>\n",
       "    .dataframe tbody tr th:only-of-type {\n",
       "        vertical-align: middle;\n",
       "    }\n",
       "\n",
       "    .dataframe tbody tr th {\n",
       "        vertical-align: top;\n",
       "    }\n",
       "\n",
       "    .dataframe thead th {\n",
       "        text-align: right;\n",
       "    }\n",
       "</style>\n",
       "<table border=\"1\" class=\"dataframe\">\n",
       "  <thead>\n",
       "    <tr style=\"text-align: right;\">\n",
       "      <th></th>\n",
       "      <th>df</th>\n",
       "      <th>sum_sq</th>\n",
       "      <th>mean_sq</th>\n",
       "      <th>F</th>\n",
       "      <th>PR(&gt;F)</th>\n",
       "    </tr>\n",
       "  </thead>\n",
       "  <tbody>\n",
       "    <tr>\n",
       "      <th>Individual_Price</th>\n",
       "      <td>1.0</td>\n",
       "      <td>0.949071</td>\n",
       "      <td>0.949071</td>\n",
       "      <td>8.25017</td>\n",
       "      <td>0.004076</td>\n",
       "    </tr>\n",
       "    <tr>\n",
       "      <th>Residual</th>\n",
       "      <td>65498.0</td>\n",
       "      <td>7534.663998</td>\n",
       "      <td>0.115037</td>\n",
       "      <td>NaN</td>\n",
       "      <td>NaN</td>\n",
       "    </tr>\n",
       "  </tbody>\n",
       "</table>\n",
       "</div>"
      ],
      "text/plain": [
       "                       df       sum_sq   mean_sq        F    PR(>F)\n",
       "Individual_Price      1.0     0.949071  0.949071  8.25017  0.004076\n",
       "Residual          65498.0  7534.663998  0.115037      NaN       NaN"
      ]
     },
     "execution_count": 32,
     "metadata": {},
     "output_type": "execute_result"
    }
   ],
   "source": [
    "model = sfa.ols('Transaction_Result~Individual_Price',data = df).fit()\n",
    "anova_lm(model)"
   ]
  },
  {
   "cell_type": "markdown",
   "id": "52f59cbd",
   "metadata": {},
   "source": [
    "P-value is less than 0.05. Hence we accept the null hypothesis.<br>\n",
    "So Transaction Result and Individual Price are `related`."
   ]
  },
  {
   "cell_type": "markdown",
   "id": "97e237f0",
   "metadata": {},
   "source": [
    "#### Additionally we determine if there is any statistical relationship between the independent variables"
   ]
  },
  {
   "cell_type": "markdown",
   "id": "279e2502",
   "metadata": {},
   "source": [
    "#### Amount and Individual Price US dollars"
   ]
  },
  {
   "cell_type": "code",
   "execution_count": 33,
   "id": "3cc05464",
   "metadata": {},
   "outputs": [
    {
     "data": {
      "text/html": [
       "<div>\n",
       "<style scoped>\n",
       "    .dataframe tbody tr th:only-of-type {\n",
       "        vertical-align: middle;\n",
       "    }\n",
       "\n",
       "    .dataframe tbody tr th {\n",
       "        vertical-align: top;\n",
       "    }\n",
       "\n",
       "    .dataframe thead th {\n",
       "        text-align: right;\n",
       "    }\n",
       "</style>\n",
       "<table border=\"1\" class=\"dataframe\">\n",
       "  <thead>\n",
       "    <tr style=\"text-align: right;\">\n",
       "      <th></th>\n",
       "      <th>df</th>\n",
       "      <th>sum_sq</th>\n",
       "      <th>mean_sq</th>\n",
       "      <th>F</th>\n",
       "      <th>PR(&gt;F)</th>\n",
       "    </tr>\n",
       "  </thead>\n",
       "  <tbody>\n",
       "    <tr>\n",
       "      <th>Individual_Price</th>\n",
       "      <td>1.0</td>\n",
       "      <td>2.950143e+12</td>\n",
       "      <td>2.950143e+12</td>\n",
       "      <td>20355.440491</td>\n",
       "      <td>0.0</td>\n",
       "    </tr>\n",
       "    <tr>\n",
       "      <th>Residual</th>\n",
       "      <td>65498.0</td>\n",
       "      <td>9.492719e+12</td>\n",
       "      <td>1.449314e+08</td>\n",
       "      <td>NaN</td>\n",
       "      <td>NaN</td>\n",
       "    </tr>\n",
       "  </tbody>\n",
       "</table>\n",
       "</div>"
      ],
      "text/plain": [
       "                       df        sum_sq       mean_sq             F  PR(>F)\n",
       "Individual_Price      1.0  2.950143e+12  2.950143e+12  20355.440491     0.0\n",
       "Residual          65498.0  9.492719e+12  1.449314e+08           NaN     NaN"
      ]
     },
     "execution_count": 33,
     "metadata": {},
     "output_type": "execute_result"
    }
   ],
   "source": [
    "model = sfa.ols('Amount~Individual_Price',data = df).fit()\n",
    "anova_lm(model)"
   ]
  },
  {
   "cell_type": "markdown",
   "id": "c40cbaec",
   "metadata": {},
   "source": [
    "P-value is less than 0.05. Hence we accept the null hypothesis.<br>\n",
    "So Amount and Individual Price are `related`."
   ]
  },
  {
   "cell_type": "markdown",
   "id": "00a110b3",
   "metadata": {},
   "source": [
    "#### Customer Login type and Delivery Type"
   ]
  },
  {
   "cell_type": "markdown",
   "id": "28fc6850",
   "metadata": {},
   "source": [
    "Chi-square test of independence<br>\n",
    "\n",
    "H0 : Customer Login and Delivery are independent<br>\n",
    "Ha : Customer Login and Delivery are not independent"
   ]
  },
  {
   "cell_type": "code",
   "execution_count": 34,
   "id": "f20b0c29",
   "metadata": {},
   "outputs": [
    {
     "data": {
      "text/plain": [
       "array([[   88,    99],\n",
       "       [   47,  2268],\n",
       "       [32060, 30902],\n",
       "       [   16,    20]], dtype=int64)"
      ]
     },
     "execution_count": 34,
     "metadata": {},
     "output_type": "execute_result"
    }
   ],
   "source": [
    "table = pd.crosstab(df['Customer_Login_type'],df['Delivery_Type'])\n",
    "\n",
    "obs_val = table.values\n",
    "obs_val"
   ]
  },
  {
   "cell_type": "code",
   "execution_count": 35,
   "id": "20d889e2",
   "metadata": {},
   "outputs": [
    {
     "name": "stdout",
     "output_type": "stream",
     "text": [
      "Critical value for chi-square test: 7.8147\n",
      "Test statistic: 2136.043180767123\n",
      "p-value: 0.0\n",
      "Degrees of freedom: 3\n",
      "Expected values: [[9.19611756e+01 9.50388244e+01]\n",
      " [1.13844985e+03 1.17655015e+03]\n",
      " [3.09628852e+04 3.19991148e+04]\n",
      " [1.77037557e+01 1.82962443e+01]]\n"
     ]
    }
   ],
   "source": [
    "chi2_val = np.abs(round(stats.chi2.isf(q = 0.05, df = 3), 4))\n",
    "\n",
    "print('Critical value for chi-square test:', chi2_val)\n",
    "\n",
    "test_stat, p, dof, expected_value = chi2_contingency(observed = obs_val, correction = False)\n",
    "\n",
    "print(\"Test statistic:\", test_stat)\n",
    "print(\"p-value:\", p)\n",
    "print(\"Degrees of freedom:\", dof)\n",
    "print(\"Expected values:\", expected_value)"
   ]
  },
  {
   "cell_type": "markdown",
   "id": "2a9782d3",
   "metadata": {},
   "source": [
    "The above output shows that the chi-square test statistic is greater than 7.8147 and the p-value is less than 0.05, thus we reject the null hypothesis and conclude that the variables `Customer_Login_type` and `Delivery_Type` are `dependent`."
   ]
  },
  {
   "cell_type": "markdown",
   "id": "0bf41a52",
   "metadata": {},
   "source": [
    "### Class Imbalance"
   ]
  },
  {
   "cell_type": "markdown",
   "id": "24dca6ad",
   "metadata": {},
   "source": [
    "Checking for imbalace in the dependent variable `Transaction_Result`"
   ]
  },
  {
   "cell_type": "code",
   "execution_count": 11,
   "id": "363692ac",
   "metadata": {},
   "outputs": [
    {
     "data": {
      "image/png": "[encoded data removed]",
      "text/plain": [
       "<Figure size 1080x576 with 1 Axes>"
      ]
     },
     "metadata": {
      "needs_background": "light"
     },
     "output_type": "display_data"
    }
   ],
   "source": [
    "plt.figure(figsize = (15,8))\n",
    "\n",
    "df_target = df['Transaction_Result'].copy()\n",
    "sns.countplot(x = df_target)\n",
    "\n",
    "plt.text(x = -0.05, y = df_target.value_counts()[0] + 1, \n",
    "         s = str(round((df_target.value_counts()[0])*100/len(df_target),2)) + '%')\n",
    "plt.text(x = 0.95, y = df_target.value_counts()[1] +1, \n",
    "         s = str(round((df_target.value_counts()[1])*100/len(df_target),2)) + '%')\n",
    "\n",
    "plt.title('Count Plot for Target Variable (Transaction Result)', fontsize = 15)\n",
    "plt.xlabel('Target Variable', fontsize = 15)\n",
    "plt.ylabel('Count', fontsize = 15)\n",
    "\n",
    "# to show the plot\n",
    "plt.show()"
   ]
  },
  {
   "cell_type": "markdown",
   "id": "5205ddf7",
   "metadata": {},
   "source": [
    "Since the percentage of '0' is very less respective to '1'.<br>\n",
    "It becomes clear that 'Transaction_Result' column is imbalanced.\n",
    "\n",
    "So, we use Down-sampling technique to balance the data<br>\n",
    "Down-sampling is the process of randomly removing observations from the majrity class in order to reinforce its signal."
   ]
  },
  {
   "cell_type": "code",
   "execution_count": 12,
   "id": "75931588",
   "metadata": {},
   "outputs": [
    {
     "data": {
      "text/plain": [
       "1    8688\n",
       "0    8688\n",
       "Name: Transaction_Result, dtype: int64"
      ]
     },
     "execution_count": 12,
     "metadata": {},
     "output_type": "execute_result"
    }
   ],
   "source": [
    "df_major = df[df.Transaction_Result == 1]\n",
    "df_minor = df[df.Transaction_Result == 0]\n",
    " \n",
    "df_majority_downsampled = resample(df_major, replace=False, n_samples=8688, random_state=123) \n",
    " \n",
    "# Combine minority class with downsampled majority class\n",
    "df_down = pd.concat([df_majority_downsampled, df_minor])\n",
    " \n",
    "df_down = df_down.reset_index(drop=True)\n",
    "df_down.Transaction_Result.value_counts()"
   ]
  },
  {
   "cell_type": "markdown",
   "id": "308dbb5d",
   "metadata": {},
   "source": [
    "## Outliers and its treatment"
   ]
  },
  {
   "cell_type": "code",
   "execution_count": 13,
   "id": "59b4ebfe",
   "metadata": {},
   "outputs": [
    {
     "data": {
      "image/png": "[encoded data removed]",
      "text/plain": [
       "<Figure size 1080x576 with 1 Axes>"
      ]
     },
     "metadata": {
      "needs_background": "light"
     },
     "output_type": "display_data"
    }
   ],
   "source": [
    "plt.figure(figsize = (15,8))\n",
    "\n",
    "df.boxplot()\n",
    "plt.xticks(rotation = 'vertical', fontsize = 15)\n",
    "plt.show()"
   ]
  },
  {
   "cell_type": "markdown",
   "id": "eb017280",
   "metadata": {},
   "source": [
    "From the above plots, we notice that some of the variables have  outliers in the data. However, the exact location of these points is not precisely seen.\n",
    "\n",
    "Let us use the IQR method to remove the outliers."
   ]
  },
  {
   "cell_type": "code",
   "execution_count": 14,
   "id": "a5d63c09",
   "metadata": {},
   "outputs": [
    {
     "data": {
      "text/plain": [
       "(50815, 15)"
      ]
     },
     "execution_count": 14,
     "metadata": {},
     "output_type": "execute_result"
    }
   ],
   "source": [
    "# calculate the first quartile\n",
    "Q1 = df.quantile(0.25)\n",
    "\n",
    "#calculate the third quartile\n",
    "Q3 = df.quantile(0.75)\n",
    "\n",
    "# The Interquartile Range (IQR) is defined as the difference between the third and first quartile\n",
    "# calculate IQR\n",
    "IQR = Q3 - Q1\n",
    "\n",
    "# remove the outliers from the dataframe\n",
    "df = df[~((df < (Q1 - 1.5 * IQR)) | (df > (Q3 + 1.5 * IQR))).any(axis=1)]\n",
    "\n",
    "# reset the row index\n",
    "df = df.reset_index(drop=True)\n",
    "\n",
    "# check the shape of the data\n",
    "df.shape"
   ]
  },
  {
   "cell_type": "markdown",
   "id": "baf0191e",
   "metadata": {},
   "source": [
    "## Multi-collinearity"
   ]
  },
  {
   "cell_type": "markdown",
   "id": "3ddd8e1f",
   "metadata": {},
   "source": [
    "Multicollinearity (or collinearity) occurs when one independent variable in a regression model is linearly correlated with another independent variable.\n",
    "\n",
    "Ultimately, multicollinearity makes prediction less accurate. For a given model, the underlying assumption is that the relationships among the predicting variables, as well as their relationship with the target variable, will be the same. However, when multicollinearity is present, this is less likely to be the case.\n",
    "\n",
    "A simple method to detect multicollinearity in a model is by using something called the variance inflation factor or the VIF for each predicting variable."
   ]
  },
  {
   "cell_type": "code",
   "execution_count": 15,
   "id": "c7a37ebf",
   "metadata": {},
   "outputs": [
    {
     "data": {
      "text/html": [
       "<div>\n",
       "<style scoped>\n",
       "    .dataframe tbody tr th:only-of-type {\n",
       "        vertical-align: middle;\n",
       "    }\n",
       "\n",
       "    .dataframe tbody tr th {\n",
       "        vertical-align: top;\n",
       "    }\n",
       "\n",
       "    .dataframe thead th {\n",
       "        text-align: right;\n",
       "    }\n",
       "</style>\n",
       "<table border=\"1\" class=\"dataframe\">\n",
       "  <thead>\n",
       "    <tr style=\"text-align: right;\">\n",
       "      <th></th>\n",
       "      <th>feature</th>\n",
       "      <th>VIF</th>\n",
       "    </tr>\n",
       "  </thead>\n",
       "  <tbody>\n",
       "    <tr>\n",
       "      <th>0</th>\n",
       "      <td>Quantity</td>\n",
       "      <td>2.068324</td>\n",
       "    </tr>\n",
       "    <tr>\n",
       "      <th>1</th>\n",
       "      <td>Transaction_Result</td>\n",
       "      <td>60.652233</td>\n",
       "    </tr>\n",
       "    <tr>\n",
       "      <th>2</th>\n",
       "      <td>Amount</td>\n",
       "      <td>28.640496</td>\n",
       "    </tr>\n",
       "    <tr>\n",
       "      <th>3</th>\n",
       "      <td>Individual_Price</td>\n",
       "      <td>29.095603</td>\n",
       "    </tr>\n",
       "  </tbody>\n",
       "</table>\n",
       "</div>"
      ],
      "text/plain": [
       "              feature        VIF\n",
       "0            Quantity   2.068324\n",
       "1  Transaction_Result  60.652233\n",
       "2              Amount  28.640496\n",
       "3    Individual_Price  29.095603"
      ]
     },
     "execution_count": 15,
     "metadata": {},
     "output_type": "execute_result"
    }
   ],
   "source": [
    "x = df.select_dtypes(include=[np.number])\n",
    "\n",
    "vif_data = pd.DataFrame()\n",
    "vif_data['feature'] = x.columns\n",
    "vif_data['VIF'] = [variance_inflation_factor(x.values, i) for i in range(len(x.columns))]\n",
    "vif_data"
   ]
  },
  {
   "cell_type": "markdown",
   "id": "019ed467",
   "metadata": {},
   "source": [
    "An acceptable VIF is if it’s less than the max of 10 and 1/1-R²model<br>\n",
    "\n",
    "Here we can see that the VIF values of 'Transaction Start','Amount' and 'Individual_Price' are far above the VIF threshold, indicating that there is a high collinearity between these variables"
   ]
  },
  {
   "cell_type": "markdown",
   "id": "1c03f18b",
   "metadata": {},
   "source": [
    "## Feature Engineering"
   ]
  },
  {
   "cell_type": "code",
   "execution_count": 16,
   "id": "9dad95b5",
   "metadata": {},
   "outputs": [],
   "source": [
    "df1 = df_down.copy()"
   ]
  },
  {
   "cell_type": "code",
   "execution_count": 17,
   "id": "2350ddaf",
   "metadata": {},
   "outputs": [],
   "source": [
    "num = df1.select_dtypes(include = [np.number])\n",
    "cat  = df1.drop(['Transaction_id', 'customer_id', 'Date'],axis = 1).select_dtypes(include = [np.object])"
   ]
  },
  {
   "cell_type": "markdown",
   "id": "05da4397",
   "metadata": {},
   "source": [
    "### Encoding categorical variables"
   ]
  },
  {
   "cell_type": "code",
   "execution_count": 18,
   "id": "62ec442c",
   "metadata": {},
   "outputs": [],
   "source": [
    "labelencoder_X = LabelEncoder()\n",
    "cat['Product']      = labelencoder_X.fit_transform(cat['Product']) \n",
    "cat['Gender']  = labelencoder_X.fit_transform(cat['Gender']) \n",
    "cat['Device_Type']= labelencoder_X.fit_transform(cat['Device_Type']) \n",
    "cat['City']= labelencoder_X.fit_transform(cat['City'])\n",
    "cat['Category']  = labelencoder_X.fit_transform(cat['Category']) \n",
    "cat['Customer_Login_type']  = labelencoder_X.fit_transform(cat['Customer_Login_type']) \n",
    "cat['Delivery_Type']     = labelencoder_X.fit_transform(cat['Delivery_Type']) \n",
    "cat['Year_Month']     = labelencoder_X.fit_transform(cat['Year_Month']) "
   ]
  },
  {
   "cell_type": "markdown",
   "id": "875edd34",
   "metadata": {},
   "source": [
    "### Scaling the data"
   ]
  },
  {
   "cell_type": "code",
   "execution_count": 19,
   "id": "9e1f02b3",
   "metadata": {},
   "outputs": [
    {
     "data": {
      "text/html": [
       "<div>\n",
       "<style scoped>\n",
       "    .dataframe tbody tr th:only-of-type {\n",
       "        vertical-align: middle;\n",
       "    }\n",
       "\n",
       "    .dataframe tbody tr th {\n",
       "        vertical-align: top;\n",
       "    }\n",
       "\n",
       "    .dataframe thead th {\n",
       "        text-align: right;\n",
       "    }\n",
       "</style>\n",
       "<table border=\"1\" class=\"dataframe\">\n",
       "  <thead>\n",
       "    <tr style=\"text-align: right;\">\n",
       "      <th></th>\n",
       "      <th>Product</th>\n",
       "      <th>Gender</th>\n",
       "      <th>Device_Type</th>\n",
       "      <th>City</th>\n",
       "      <th>Category</th>\n",
       "      <th>Customer_Login_type</th>\n",
       "      <th>Delivery_Type</th>\n",
       "      <th>Year_Month</th>\n",
       "    </tr>\n",
       "  </thead>\n",
       "  <tbody>\n",
       "    <tr>\n",
       "      <th>0</th>\n",
       "      <td>2</td>\n",
       "      <td>0</td>\n",
       "      <td>1</td>\n",
       "      <td>1</td>\n",
       "      <td>3</td>\n",
       "      <td>2</td>\n",
       "      <td>1</td>\n",
       "      <td>4</td>\n",
       "    </tr>\n",
       "    <tr>\n",
       "      <th>1</th>\n",
       "      <td>1</td>\n",
       "      <td>1</td>\n",
       "      <td>0</td>\n",
       "      <td>0</td>\n",
       "      <td>5</td>\n",
       "      <td>2</td>\n",
       "      <td>1</td>\n",
       "      <td>1</td>\n",
       "    </tr>\n",
       "    <tr>\n",
       "      <th>2</th>\n",
       "      <td>6</td>\n",
       "      <td>1</td>\n",
       "      <td>1</td>\n",
       "      <td>2</td>\n",
       "      <td>1</td>\n",
       "      <td>2</td>\n",
       "      <td>0</td>\n",
       "      <td>1</td>\n",
       "    </tr>\n",
       "    <tr>\n",
       "      <th>3</th>\n",
       "      <td>6</td>\n",
       "      <td>1</td>\n",
       "      <td>1</td>\n",
       "      <td>0</td>\n",
       "      <td>1</td>\n",
       "      <td>2</td>\n",
       "      <td>1</td>\n",
       "      <td>0</td>\n",
       "    </tr>\n",
       "    <tr>\n",
       "      <th>4</th>\n",
       "      <td>4</td>\n",
       "      <td>0</td>\n",
       "      <td>1</td>\n",
       "      <td>0</td>\n",
       "      <td>1</td>\n",
       "      <td>2</td>\n",
       "      <td>1</td>\n",
       "      <td>1</td>\n",
       "    </tr>\n",
       "  </tbody>\n",
       "</table>\n",
       "</div>"
      ],
      "text/plain": [
       "   Product  Gender  Device_Type  City  Category  Customer_Login_type  \\\n",
       "0        2       0            1     1         3                    2   \n",
       "1        1       1            0     0         5                    2   \n",
       "2        6       1            1     2         1                    2   \n",
       "3        6       1            1     0         1                    2   \n",
       "4        4       0            1     0         1                    2   \n",
       "\n",
       "   Delivery_Type  Year_Month  \n",
       "0              1           4  \n",
       "1              1           1  \n",
       "2              0           1  \n",
       "3              1           0  \n",
       "4              1           1  "
      ]
     },
     "execution_count": 19,
     "metadata": {},
     "output_type": "execute_result"
    }
   ],
   "source": [
    "cat.head()"
   ]
  },
  {
   "cell_type": "code",
   "execution_count": 20,
   "id": "f6eb3639",
   "metadata": {},
   "outputs": [
    {
     "data": {
      "text/html": [
       "<div>\n",
       "<style scoped>\n",
       "    .dataframe tbody tr th:only-of-type {\n",
       "        vertical-align: middle;\n",
       "    }\n",
       "\n",
       "    .dataframe tbody tr th {\n",
       "        vertical-align: top;\n",
       "    }\n",
       "\n",
       "    .dataframe thead th {\n",
       "        text-align: right;\n",
       "    }\n",
       "</style>\n",
       "<table border=\"1\" class=\"dataframe\">\n",
       "  <thead>\n",
       "    <tr style=\"text-align: right;\">\n",
       "      <th></th>\n",
       "      <th>Quantity</th>\n",
       "      <th>Amount</th>\n",
       "      <th>Individual_Price</th>\n",
       "      <th>Product</th>\n",
       "      <th>Gender</th>\n",
       "      <th>Device_Type</th>\n",
       "      <th>City</th>\n",
       "      <th>Category</th>\n",
       "      <th>Customer_Login_type</th>\n",
       "      <th>Delivery_Type</th>\n",
       "      <th>Year_Month</th>\n",
       "    </tr>\n",
       "  </thead>\n",
       "  <tbody>\n",
       "    <tr>\n",
       "      <th>0</th>\n",
       "      <td>1.453511</td>\n",
       "      <td>-0.296293</td>\n",
       "      <td>-0.577513</td>\n",
       "      <td>-0.830372</td>\n",
       "      <td>-1.118512</td>\n",
       "      <td>0.495482</td>\n",
       "      <td>-0.352815</td>\n",
       "      <td>0.254091</td>\n",
       "      <td>0.179043</td>\n",
       "      <td>1.049206</td>\n",
       "      <td>2.583064</td>\n",
       "    </tr>\n",
       "    <tr>\n",
       "      <th>1</th>\n",
       "      <td>0.847992</td>\n",
       "      <td>-0.233079</td>\n",
       "      <td>-0.458864</td>\n",
       "      <td>-1.225794</td>\n",
       "      <td>0.894045</td>\n",
       "      <td>-2.018238</td>\n",
       "      <td>-1.437863</td>\n",
       "      <td>1.596881</td>\n",
       "      <td>0.179043</td>\n",
       "      <td>1.049206</td>\n",
       "      <td>-0.207609</td>\n",
       "    </tr>\n",
       "    <tr>\n",
       "      <th>2</th>\n",
       "      <td>0.545232</td>\n",
       "      <td>0.335849</td>\n",
       "      <td>0.670681</td>\n",
       "      <td>0.751315</td>\n",
       "      <td>0.894045</td>\n",
       "      <td>0.495482</td>\n",
       "      <td>0.732232</td>\n",
       "      <td>-1.088698</td>\n",
       "      <td>0.179043</td>\n",
       "      <td>-0.953101</td>\n",
       "      <td>-0.207609</td>\n",
       "    </tr>\n",
       "    <tr>\n",
       "      <th>3</th>\n",
       "      <td>-0.665807</td>\n",
       "      <td>-0.185668</td>\n",
       "      <td>-0.299873</td>\n",
       "      <td>0.751315</td>\n",
       "      <td>0.894045</td>\n",
       "      <td>0.495482</td>\n",
       "      <td>-1.437863</td>\n",
       "      <td>-1.088698</td>\n",
       "      <td>0.179043</td>\n",
       "      <td>1.049206</td>\n",
       "      <td>-1.137833</td>\n",
       "    </tr>\n",
       "    <tr>\n",
       "      <th>4</th>\n",
       "      <td>-0.363047</td>\n",
       "      <td>-0.075296</td>\n",
       "      <td>-0.057828</td>\n",
       "      <td>-0.039529</td>\n",
       "      <td>-1.118512</td>\n",
       "      <td>0.495482</td>\n",
       "      <td>-1.437863</td>\n",
       "      <td>-1.088698</td>\n",
       "      <td>0.179043</td>\n",
       "      <td>1.049206</td>\n",
       "      <td>-0.207609</td>\n",
       "    </tr>\n",
       "  </tbody>\n",
       "</table>\n",
       "</div>"
      ],
      "text/plain": [
       "   Quantity    Amount  Individual_Price   Product    Gender  Device_Type  \\\n",
       "0  1.453511 -0.296293         -0.577513 -0.830372 -1.118512     0.495482   \n",
       "1  0.847992 -0.233079         -0.458864 -1.225794  0.894045    -2.018238   \n",
       "2  0.545232  0.335849          0.670681  0.751315  0.894045     0.495482   \n",
       "3 -0.665807 -0.185668         -0.299873  0.751315  0.894045     0.495482   \n",
       "4 -0.363047 -0.075296         -0.057828 -0.039529 -1.118512     0.495482   \n",
       "\n",
       "       City  Category  Customer_Login_type  Delivery_Type  Year_Month  \n",
       "0 -0.352815  0.254091             0.179043       1.049206    2.583064  \n",
       "1 -1.437863  1.596881             0.179043       1.049206   -0.207609  \n",
       "2  0.732232 -1.088698             0.179043      -0.953101   -0.207609  \n",
       "3 -1.437863 -1.088698             0.179043       1.049206   -1.137833  \n",
       "4 -1.437863 -1.088698             0.179043       1.049206   -0.207609  "
      ]
     },
     "execution_count": 20,
     "metadata": {},
     "output_type": "execute_result"
    }
   ],
   "source": [
    "df_final = pd.concat([num,cat],axis = 1)\n",
    "\n",
    "X = df_final.drop('Transaction_Result',axis = 1)\n",
    "Y = df_final['Transaction_Result']\n",
    "\n",
    "scaler = StandardScaler()\n",
    "scaled = scaler.fit_transform(X)\n",
    "X = pd.DataFrame(scaled, columns = X.columns)\n",
    "\n",
    "X.head()"
   ]
  },
  {
   "cell_type": "markdown",
   "id": "0acc78fa",
   "metadata": {},
   "source": [
    "### Train - Test Split"
   ]
  },
  {
   "cell_type": "code",
   "execution_count": 21,
   "id": "85c177fb",
   "metadata": {},
   "outputs": [
    {
     "name": "stdout",
     "output_type": "stream",
     "text": [
      "X_train (12163, 12)\n",
      "y_train (12163,)\n",
      "X_test (5213, 12)\n",
      "y_test (5213,)\n"
     ]
    }
   ],
   "source": [
    "X = sm.add_constant(X)\n",
    "X_train, X_test, y_train, y_test = train_test_split(X, Y, random_state = 10, test_size = 0.3)\n",
    "\n",
    "print('X_train', X_train.shape)\n",
    "print('y_train', y_train.shape)\n",
    "\n",
    "print('X_test', X_test.shape)\n",
    "print('y_test', y_test.shape)"
   ]
  },
  {
   "cell_type": "markdown",
   "id": "2b94d299",
   "metadata": {},
   "source": [
    "## Model Creation"
   ]
  },
  {
   "cell_type": "code",
   "execution_count": 22,
   "id": "cb5d555b",
   "metadata": {},
   "outputs": [],
   "source": [
    "# Generalised function to generate report\n",
    "\n",
    "def get_report(model,x,y):\n",
    "    pred = model.predict(x)\n",
    "    print(\"Confusion matrix\")\n",
    "    print(confusion_matrix(y, pred))\n",
    "    print(\"Accuracy score :\",round((accuracy_score(y, pred) *100),2))\n",
    "    print(\"AUC score :\",round((roc_auc_score(y, pred) * 100),2))"
   ]
  },
  {
   "cell_type": "code",
   "execution_count": 23,
   "id": "6d5d171e",
   "metadata": {},
   "outputs": [],
   "source": [
    "def plot_roc(model):\n",
    "    y_pred_prob = model.predict_proba(X_test)[:,1]\n",
    "    \n",
    "    # the roc_curve() returns the values for false positive rate, true positive rate and threshold\n",
    "    # pass the actual target values and predicted probabilities to the function\n",
    "    fpr, tpr, thresholds = roc_curve(y_test, y_pred_prob)\n",
    "\n",
    "    # plot the ROC curve\n",
    "    plt.plot(fpr, tpr)\n",
    "\n",
    "    # set limits for x and y axes\n",
    "    plt.xlim([0.0, 1.0])\n",
    "    plt.ylim([0.0, 1.0])\n",
    "\n",
    "    # plot the straight line showing worst prediction for the model\n",
    "    plt.plot([0, 1], [0, 1],'r--')\n",
    "\n",
    "    # add plot and axes labels\n",
    "    # set text size using 'fontsize'\n",
    "    plt.title('ROC curve for Admission Prediction Classifier', fontsize = 15)\n",
    "    plt.xlabel('False positive rate (1-Specificity)', fontsize = 15)\n",
    "    plt.ylabel('True positive rate (Sensitivity)', fontsize = 15)\n",
    "\n",
    "    # add the AUC score to the plot\n",
    "    # 'x' and 'y' gives position of the text\n",
    "    # 's' is the text \n",
    "    # use round() to round-off the AUC score upto 4 digits\n",
    "    plt.text(x = 0.82, y = 0.3, s = ('AUC Score:',round(roc_auc_score(y_test, y_pred_prob),4)))\n",
    "\n",
    "    # plot the grid\n",
    "    plt.grid(True)"
   ]
  },
  {
   "cell_type": "markdown",
   "id": "302716fa",
   "metadata": {},
   "source": [
    "### Logistic Regression"
   ]
  },
  {
   "cell_type": "code",
   "execution_count": 25,
   "id": "4a78b58d",
   "metadata": {},
   "outputs": [
    {
     "name": "stdout",
     "output_type": "stream",
     "text": [
      "Report for test data \n",
      "\n",
      "Confusion matrix\n",
      "[[1696  899]\n",
      " [1385 1233]]\n",
      "Accuracy score : 56.19\n",
      "AUC score : 56.23\n",
      "\n",
      "Report for train data \n",
      "\n",
      "Confusion matrix\n",
      "[[3979 2114]\n",
      " [3209 2861]]\n",
      "Accuracy score : 56.24\n",
      "AUC score : 56.22\n"
     ]
    }
   ],
   "source": [
    "logmodel = LogisticRegression() \n",
    "logreg = logmodel.fit(X_train,y_train)\n",
    "\n",
    "print(\"Report for test data \\n\")\n",
    "get_report(logreg, X_test, y_test)\n",
    "print()\n",
    "print(\"Report for train data \\n\")\n",
    "get_report(logreg, X_train, y_train)"
   ]
  },
  {
   "cell_type": "code",
   "execution_count": 26,
   "id": "03e90c23",
   "metadata": {},
   "outputs": [
    {
     "data": {
      "image/png": "[encoded data removed]",
      "text/plain": [
       "<Figure size 432x288 with 1 Axes>"
      ]
     },
     "metadata": {
      "needs_background": "light"
     },
     "output_type": "display_data"
    }
   ],
   "source": [
    "plot_roc(logreg)"
   ]
  },
  {
   "cell_type": "markdown",
   "id": "98785d94",
   "metadata": {},
   "source": [
    "### Decision Tree"
   ]
  },
  {
   "cell_type": "code",
   "execution_count": 27,
   "id": "4475abb6",
   "metadata": {},
   "outputs": [
    {
     "name": "stdout",
     "output_type": "stream",
     "text": [
      "Report for test data \n",
      "\n",
      "Confusion matrix\n",
      "[[1439 1156]\n",
      " [1271 1347]]\n",
      "Accuracy score : 53.44\n",
      "AUC score : 53.45\n",
      "\n",
      "Report for train data \n",
      "\n",
      "Confusion matrix\n",
      "[[5971  122]\n",
      " [ 323 5747]]\n",
      "Accuracy score : 96.34\n",
      "AUC score : 96.34\n"
     ]
    }
   ],
   "source": [
    "dtree = DecisionTreeClassifier(criterion='gini')\n",
    "dectree = dtree.fit(X_train, y_train)\n",
    "\n",
    "print(\"Report for test data \\n\")\n",
    "get_report(dectree, X_test, y_test)\n",
    "print()\n",
    "print(\"Report for train data \\n\")\n",
    "get_report(dectree, X_train, y_train)"
   ]
  },
  {
   "cell_type": "code",
   "execution_count": 28,
   "id": "d30216e5",
   "metadata": {},
   "outputs": [
    {
     "data": {
      "image/png": "[encoded data removed]",
      "text/plain": [
       "<Figure size 432x288 with 1 Axes>"
      ]
     },
     "metadata": {
      "needs_background": "light"
     },
     "output_type": "display_data"
    }
   ],
   "source": [
    "plot_roc(dectree)"
   ]
  },
  {
   "cell_type": "markdown",
   "id": "bc34b9c2",
   "metadata": {},
   "source": [
    "### Tuning Hyperparameters GridSearchCV"
   ]
  },
  {
   "cell_type": "code",
   "execution_count": 70,
   "id": "16011554",
   "metadata": {},
   "outputs": [
    {
     "name": "stdout",
     "output_type": "stream",
     "text": [
      "Best parameters for decision tree classifier:  {'criterion': 'entropy', 'max_depth': 7, 'max_features': 'sqrt', 'max_leaf_nodes': 9, 'min_samples_leaf': 5, 'min_samples_split': 2} \n",
      "\n"
     ]
    }
   ],
   "source": [
    "tuned_paramaters = [{'criterion': ['entropy', 'gini'], \n",
    "                     'max_depth': range(2, 10),\n",
    "                     'max_features': [\"sqrt\", \"log2\"],\n",
    "                     'min_samples_split': range(2,10),\n",
    "                     'min_samples_leaf': range(1,10),\n",
    "                     'max_leaf_nodes': range(1, 10)}]\n",
    " \n",
    "decision_tree_classification = DecisionTreeClassifier(random_state = 10)\n",
    "\n",
    "tree_grid = GridSearchCV(estimator = decision_tree_classification, \n",
    "                         param_grid = tuned_paramaters, \n",
    "                         cv = 5)\n",
    "\n",
    "tree_grid_model = tree_grid.fit(X_train, y_train)\n",
    "\n",
    "# get the best parameters\n",
    "print('Best parameters for decision tree classifier: ', tree_grid_model.best_params_, '\\n')"
   ]
  },
  {
   "cell_type": "code",
   "execution_count": 72,
   "id": "607c8fcb",
   "metadata": {},
   "outputs": [
    {
     "name": "stdout",
     "output_type": "stream",
     "text": [
      "Report for test data \n",
      "\n",
      "Confusion matrix\n",
      "[[1082 1513]\n",
      " [ 681 1937]]\n",
      "Accuracy score : 57.91\n",
      "AUC score : 57.84\n",
      "\n",
      "Report for train data \n",
      "\n",
      "Confusion matrix\n",
      "[[2458 3635]\n",
      " [1579 4491]]\n",
      "Accuracy score : 57.13\n",
      "AUC score : 57.16\n"
     ]
    }
   ],
   "source": [
    "dt_model = DecisionTreeClassifier(criterion = tree_grid_model.best_params_.get('criterion'),\n",
    "                                  max_depth = tree_grid_model.best_params_.get('max_depth'),\n",
    "                                  max_features = tree_grid_model.best_params_.get('max_features'),\n",
    "                                  max_leaf_nodes = tree_grid_model.best_params_.get('max_leaf_nodes'),\n",
    "                                  min_samples_leaf = tree_grid_model.best_params_.get('min_samples_leaf'),\n",
    "                                  min_samples_split = tree_grid_model.best_params_.get('min_samples_split'),\n",
    "                                  random_state = 10)\n",
    "\n",
    "# use fit() to fit the model on the train set\n",
    "dt_model = dt_model.fit(X_train, y_train)\n",
    "\n",
    "print(\"Report for test data \\n\")\n",
    "get_report(dt_model, X_test, y_test)\n",
    "print()\n",
    "print(\"Report for train data \\n\")\n",
    "get_report(dt_model, X_train, y_train)"
   ]
  },
  {
   "cell_type": "markdown",
   "id": "dfb8035b",
   "metadata": {},
   "source": [
    "### Random Forest"
   ]
  },
  {
   "cell_type": "code",
   "execution_count": 74,
   "id": "2af2f590",
   "metadata": {},
   "outputs": [
    {
     "name": "stdout",
     "output_type": "stream",
     "text": [
      "Report for test data \n",
      "\n",
      "Confusion matrix\n",
      "[[1443 1152]\n",
      " [1230 1388]]\n",
      "Accuracy score : 54.31\n",
      "AUC score : 54.31\n",
      "\n",
      "Report for train data \n",
      "\n",
      "Confusion matrix\n",
      "[[5859  234]\n",
      " [ 211 5859]]\n",
      "Accuracy score : 96.34\n",
      "AUC score : 96.34\n"
     ]
    }
   ],
   "source": [
    "ran_model = RandomForestClassifier(criterion='gini')\n",
    "ranfor = ran_model.fit(X_train, y_train)\n",
    "\n",
    "print(\"Report for test data \\n\")\n",
    "get_report(ranfor, X_test, y_test)\n",
    "print()\n",
    "print(\"Report for train data \\n\")\n",
    "get_report(ranfor, X_train, y_train)"
   ]
  },
  {
   "cell_type": "code",
   "execution_count": 76,
   "id": "5b0dc5b1",
   "metadata": {},
   "outputs": [
    {
     "data": {
      "image/png": "[encoded data removed]",
      "text/plain": [
       "<Figure size 432x288 with 1 Axes>"
      ]
     },
     "metadata": {
      "needs_background": "light"
     },
     "output_type": "display_data"
    }
   ],
   "source": [
    "plot_roc(ranfor)"
   ]
  },
  {
   "cell_type": "markdown",
   "id": "0e716999",
   "metadata": {},
   "source": [
    "### Tuning Hyperparameters GridSearchCV"
   ]
  },
  {
   "cell_type": "code",
   "execution_count": 75,
   "id": "3bafbd7b",
   "metadata": {},
   "outputs": [
    {
     "name": "stdout",
     "output_type": "stream",
     "text": [
      "Best parameters for random forest classifier:  {'criterion': 'entropy', 'max_depth': 10, 'max_features': 'sqrt', 'max_leaf_nodes': 11, 'min_samples_leaf': 9, 'min_samples_split': 2, 'n_estimators': 50} \n",
      "\n"
     ]
    }
   ],
   "source": [
    "tuned_paramaters = [{'criterion': ['entropy', 'gini'],\n",
    "                     'n_estimators': [10, 30, 50, 70, 90],\n",
    "                     'max_depth': [10, 15, 20],\n",
    "                     'max_features': ['sqrt', 'log2'],\n",
    "                     'min_samples_split': [2, 5, 8, 11],\n",
    "                     'min_samples_leaf': [1, 5, 9],\n",
    "                     'max_leaf_nodes': [2, 5, 8, 11]}]\n",
    " \n",
    "random_forest_classification = RandomForestClassifier(random_state = 10)\n",
    "\n",
    "rf_grid = GridSearchCV(estimator = random_forest_classification, \n",
    "                       param_grid = tuned_paramaters, \n",
    "                       cv = 5)\n",
    "rf_grid_model = rf_grid.fit(X_train, y_train)\n",
    "\n",
    "print('Best parameters for random forest classifier: ', rf_grid_model.best_params_, '\\n')"
   ]
  },
  {
   "cell_type": "code",
   "execution_count": 77,
   "id": "1a284000",
   "metadata": {},
   "outputs": [
    {
     "name": "stdout",
     "output_type": "stream",
     "text": [
      "Report for test data \n",
      "\n",
      "Confusion matrix\n",
      "[[1673  922]\n",
      " [1290 1328]]\n",
      "Accuracy score : 57.57\n",
      "AUC score : 57.6\n",
      "\n",
      "Report for train data \n",
      "\n",
      "Confusion matrix\n",
      "[[3919 2174]\n",
      " [2979 3091]]\n",
      "Accuracy score : 57.63\n",
      "AUC score : 57.62\n"
     ]
    }
   ],
   "source": [
    "rf_model = RandomForestClassifier(criterion = rf_grid_model.best_params_.get('criterion'), \n",
    "                                  n_estimators = rf_grid_model.best_params_.get('n_estimators'),\n",
    "                                  max_depth = rf_grid_model.best_params_.get('max_depth'),\n",
    "                                  max_features = rf_grid_model.best_params_.get('max_features'),\n",
    "                                  max_leaf_nodes = rf_grid_model.best_params_.get('max_leaf_nodes'),\n",
    "                                  min_samples_leaf = rf_grid_model.best_params_.get('min_samples_leaf'),\n",
    "                                  min_samples_split = rf_grid_model.best_params_.get('min_samples_split'),\n",
    "                                  random_state = 10)\n",
    "\n",
    "# use fit() to fit the model on the train set\n",
    "rf_model = rf_model.fit(X_train, y_train)\n",
    "\n",
    "print(\"Report for test data \\n\")\n",
    "get_report(rf_model, X_test, y_test)\n",
    "print()\n",
    "print(\"Report for train data \\n\")\n",
    "get_report(rf_model, X_train, y_train)"
   ]
  },
  {
   "cell_type": "markdown",
   "id": "71a9e260",
   "metadata": {},
   "source": [
    "### Ada Boost"
   ]
  },
  {
   "cell_type": "code",
   "execution_count": 57,
   "id": "383519b4",
   "metadata": {},
   "outputs": [
    {
     "name": "stdout",
     "output_type": "stream",
     "text": [
      "Report for test data \n",
      "\n",
      "Confusion matrix\n",
      "[[1623  972]\n",
      " [1207 1411]]\n",
      "Accuracy score : 58.2\n",
      "AUC score : 58.22\n",
      "\n",
      "Report for train data \n",
      "\n",
      "Confusion matrix\n",
      "[[3800 2293]\n",
      " [2771 3299]]\n",
      "Accuracy score : 58.37\n",
      "AUC score : 58.36\n"
     ]
    }
   ],
   "source": [
    "ada_model = AdaBoostClassifier(n_estimators = 40, random_state = 10)\n",
    "ada = ada_model.fit(X_train, y_train)\n",
    "\n",
    "print(\"Report for test data \\n\")\n",
    "get_report(ada, X_test, y_test)\n",
    "print()\n",
    "print(\"Report for train data \\n\")\n",
    "get_report(ada, X_train, y_train)"
   ]
  },
  {
   "cell_type": "code",
   "execution_count": 58,
   "id": "33557ece",
   "metadata": {},
   "outputs": [
    {
     "data": {
      "image/png": "[encoded data removed]",
      "text/plain": [
       "<Figure size 432x288 with 1 Axes>"
      ]
     },
     "metadata": {
      "needs_background": "light"
     },
     "output_type": "display_data"
    }
   ],
   "source": [
    "plot_roc(ada)"
   ]
  },
  {
   "cell_type": "markdown",
   "id": "1603fa17",
   "metadata": {},
   "source": [
    "### XGBoost"
   ]
  },
  {
   "cell_type": "code",
   "execution_count": 32,
   "id": "10356499",
   "metadata": {},
   "outputs": [
    {
     "name": "stdout",
     "output_type": "stream",
     "text": [
      "Report for test data \n",
      "\n",
      "Confusion matrix\n",
      "[[1437 1158]\n",
      " [1199 1419]]\n",
      "Accuracy score : 54.79\n",
      "AUC score : 54.79\n",
      "\n",
      "Report for train data \n",
      "\n",
      "Confusion matrix\n",
      "[[4637 1456]\n",
      " [1526 4544]]\n",
      "Accuracy score : 75.48\n",
      "AUC score : 75.48\n"
     ]
    }
   ],
   "source": [
    "xgb = XGBClassifier()\n",
    "xgb_model = xgb.fit(X_train, y_train)\n",
    "\n",
    "print(\"Report for test data \\n\")\n",
    "get_report(xgb_model, X_test, y_test)\n",
    "print()\n",
    "print(\"Report for train data \\n\")\n",
    "get_report(xgb_model, X_train, y_train)"
   ]
  },
  {
   "cell_type": "code",
   "execution_count": 33,
   "id": "f5ef2304",
   "metadata": {},
   "outputs": [
    {
     "data": {
      "image/png": "[encoded data removed]",
      "text/plain": [
       "<Figure size 432x288 with 1 Axes>"
      ]
     },
     "metadata": {
      "needs_background": "light"
     },
     "output_type": "display_data"
    }
   ],
   "source": [
    "plot_roc(xgb_model)"
   ]
  },
  {
   "cell_type": "markdown",
   "id": "8d149e93",
   "metadata": {},
   "source": [
    "### Gradient Boosting"
   ]
  },
  {
   "cell_type": "code",
   "execution_count": 34,
   "id": "0babd0d2",
   "metadata": {},
   "outputs": [
    {
     "name": "stdout",
     "output_type": "stream",
     "text": [
      "Report for test data \n",
      "\n",
      "Confusion matrix\n",
      "[[1560 1035]\n",
      " [1150 1468]]\n",
      "Accuracy score : 58.09\n",
      "AUC score : 58.09\n",
      "\n",
      "Report for train data \n",
      "\n",
      "Confusion matrix\n",
      "[[3769 2324]\n",
      " [2503 3567]]\n",
      "Accuracy score : 60.31\n",
      "AUC score : 60.31\n"
     ]
    }
   ],
   "source": [
    "gbk = GradientBoostingClassifier()\n",
    "gbk_model = gbk.fit(X_train, y_train)\n",
    "\n",
    "print(\"Report for test data \\n\")\n",
    "get_report(gbk_model, X_test, y_test)\n",
    "print()\n",
    "print(\"Report for train data \\n\")\n",
    "get_report(gbk_model, X_train, y_train)"
   ]
  },
  {
   "cell_type": "code",
   "execution_count": 35,
   "id": "a469370f",
   "metadata": {},
   "outputs": [
    {
     "data": {
      "image/png": "[encoded data removed]",
      "text/plain": [
       "<Figure size 432x288 with 1 Axes>"
      ]
     },
     "metadata": {
      "needs_background": "light"
     },
     "output_type": "display_data"
    }
   ],
   "source": [
    "plot_roc(gbk_model)"
   ]
  },
  {
   "cell_type": "markdown",
   "id": "3d63877a",
   "metadata": {},
   "source": [
    "**Of all the Classification models - `Ada Boost classifier` gave the best accuracy of 58% without over-fitting**"
   ]
  },
  {
   "cell_type": "markdown",
   "id": "87e1d1d3",
   "metadata": {},
   "source": [
    "### Important Features"
   ]
  },
  {
   "cell_type": "code",
   "execution_count": 36,
   "id": "4f5d4596",
   "metadata": {},
   "outputs": [
    {
     "data": {
      "image/png": "[encoded data removed]",
      "text/plain": [
       "<Figure size 432x288 with 1 Axes>"
      ]
     },
     "metadata": {
      "needs_background": "light"
     },
     "output_type": "display_data"
    }
   ],
   "source": [
    "# create a dataframe that stores the feature names and their importance\n",
    "# 'feature_importances_' returns the features based on the average gain \n",
    "important_features = pd.DataFrame({'Features': X_train.columns, \n",
    "                                   'Importance': ada.feature_importances_})\n",
    "\n",
    "# sort the dataframe in the descending order according to the feature importance\n",
    "important_features = important_features.sort_values('Importance', ascending = False)\n",
    "\n",
    "# create a barplot to visualize the features based on their importance\n",
    "sns.barplot(x = 'Importance', y = 'Features', data = important_features)\n",
    "\n",
    "# add plot and axes labels\n",
    "# set text size using 'fontsize'\n",
    "plt.title('Feature Importance', fontsize = 15)\n",
    "plt.xlabel('Importance', fontsize = 15)\n",
    "plt.ylabel('Features', fontsize = 15)\n",
    "\n",
    "# display the plot\n",
    "plt.show()"
   ]
  },
  {
   "cell_type": "code",
   "execution_count": 59,
   "id": "c5213688",
   "metadata": {},
   "outputs": [
    {
     "data": {
      "text/html": [
       "<div>\n",
       "<style scoped>\n",
       "    .dataframe tbody tr th:only-of-type {\n",
       "        vertical-align: middle;\n",
       "    }\n",
       "\n",
       "    .dataframe tbody tr th {\n",
       "        vertical-align: top;\n",
       "    }\n",
       "\n",
       "    .dataframe thead th {\n",
       "        text-align: right;\n",
       "    }\n",
       "</style>\n",
       "<table border=\"1\" class=\"dataframe\">\n",
       "  <thead>\n",
       "    <tr style=\"text-align: right;\">\n",
       "      <th></th>\n",
       "      <th>Features</th>\n",
       "      <th>Importance</th>\n",
       "    </tr>\n",
       "  </thead>\n",
       "  <tbody>\n",
       "    <tr>\n",
       "      <th>1</th>\n",
       "      <td>Quantity</td>\n",
       "      <td>0.375</td>\n",
       "    </tr>\n",
       "    <tr>\n",
       "      <th>2</th>\n",
       "      <td>Amount</td>\n",
       "      <td>0.225</td>\n",
       "    </tr>\n",
       "    <tr>\n",
       "      <th>3</th>\n",
       "      <td>Individual_Price</td>\n",
       "      <td>0.125</td>\n",
       "    </tr>\n",
       "    <tr>\n",
       "      <th>8</th>\n",
       "      <td>Category</td>\n",
       "      <td>0.075</td>\n",
       "    </tr>\n",
       "    <tr>\n",
       "      <th>11</th>\n",
       "      <td>Year_Month</td>\n",
       "      <td>0.050</td>\n",
       "    </tr>\n",
       "    <tr>\n",
       "      <th>4</th>\n",
       "      <td>Product</td>\n",
       "      <td>0.025</td>\n",
       "    </tr>\n",
       "    <tr>\n",
       "      <th>5</th>\n",
       "      <td>Gender</td>\n",
       "      <td>0.025</td>\n",
       "    </tr>\n",
       "    <tr>\n",
       "      <th>6</th>\n",
       "      <td>Device_Type</td>\n",
       "      <td>0.025</td>\n",
       "    </tr>\n",
       "    <tr>\n",
       "      <th>7</th>\n",
       "      <td>City</td>\n",
       "      <td>0.025</td>\n",
       "    </tr>\n",
       "    <tr>\n",
       "      <th>9</th>\n",
       "      <td>Customer_Login_type</td>\n",
       "      <td>0.025</td>\n",
       "    </tr>\n",
       "    <tr>\n",
       "      <th>10</th>\n",
       "      <td>Delivery_Type</td>\n",
       "      <td>0.025</td>\n",
       "    </tr>\n",
       "    <tr>\n",
       "      <th>0</th>\n",
       "      <td>const</td>\n",
       "      <td>0.000</td>\n",
       "    </tr>\n",
       "  </tbody>\n",
       "</table>\n",
       "</div>"
      ],
      "text/plain": [
       "               Features  Importance\n",
       "1              Quantity       0.375\n",
       "2                Amount       0.225\n",
       "3      Individual_Price       0.125\n",
       "8              Category       0.075\n",
       "11           Year_Month       0.050\n",
       "4               Product       0.025\n",
       "5                Gender       0.025\n",
       "6           Device_Type       0.025\n",
       "7                  City       0.025\n",
       "9   Customer_Login_type       0.025\n",
       "10        Delivery_Type       0.025\n",
       "0                 const       0.000"
      ]
     },
     "execution_count": 59,
     "metadata": {},
     "output_type": "execute_result"
    }
   ],
   "source": [
    "important_features"
   ]
  },
  {
   "cell_type": "markdown",
   "id": "70a638a0",
   "metadata": {},
   "source": [
    "### Cross Validation"
   ]
  },
  {
   "cell_type": "markdown",
   "id": "7e177777",
   "metadata": {},
   "source": [
    "#### KFold"
   ]
  },
  {
   "cell_type": "code",
   "execution_count": 37,
   "id": "58b65100",
   "metadata": {},
   "outputs": [],
   "source": [
    "kf = KFold(n_splits = 10)"
   ]
  },
  {
   "cell_type": "code",
   "execution_count": 38,
   "id": "d1ac8f10",
   "metadata": {},
   "outputs": [],
   "source": [
    "def get_score(model, X_train_k, X_test_k, y_train_k, y_test_k):\n",
    "    model.fit(X_train_k, y_train_k)                                   \n",
    "    return model.score(X_test_k, y_test_k) "
   ]
  },
  {
   "cell_type": "code",
   "execution_count": 39,
   "id": "30515089",
   "metadata": {},
   "outputs": [
    {
     "name": "stdout",
     "output_type": "stream",
     "text": [
      "All scores:  [0.5768282662284305, 0.5702547247329499, 0.580115036976171, 0.5575657894736842, 0.5723684210526315, 0.5699013157894737, 0.5699013157894737, 0.5740131578947368, 0.5674342105263158, 0.5912828947368421]\n",
      "\n",
      "Minimum score obtained:  0.5576\n",
      "Maximum score obtained:  0.5913\n",
      "Average score obtained:  0.573\n"
     ]
    }
   ],
   "source": [
    "# create an empty list to store the scores\n",
    "scores = []\n",
    "\n",
    "for train_index, test_index in kf.split(X_train):\n",
    "    X_train_k, X_test_k, y_train_k, y_test_k = X_train.iloc[train_index], X_train.iloc[test_index], \\\n",
    "                                               y_train.iloc[train_index], y_train.iloc[test_index]\n",
    "   \n",
    "    # call the function 'get_scores()' and append the scores in the list 'scores'\n",
    "    scores.append(get_score(AdaBoostClassifier(n_estimators = 40, random_state = 10),\n",
    "                            X_train_k, X_test_k, y_train_k, y_test_k)) \n",
    "    \n",
    "# print all scores\n",
    "print('All scores: ', scores)\n",
    "print(\"\\nMinimum score obtained: \", round(min(scores), 4))\n",
    "print(\"Maximum score obtained: \", round(max(scores), 4))\n",
    "print(\"Average score obtained: \", round(np.mean(scores), 4))"
   ]
  },
  {
   "cell_type": "markdown",
   "id": "37bd2906",
   "metadata": {},
   "source": [
    "#### Cross Val Score"
   ]
  },
  {
   "cell_type": "code",
   "execution_count": 40,
   "id": "bf50cf33",
   "metadata": {},
   "outputs": [
    {
     "name": "stdout",
     "output_type": "stream",
     "text": [
      "All scores:  [0.5729552  0.57336621 0.57953144 0.58100329 0.56784539]\n",
      "\n",
      "Minimum score obtained:  0.5678\n",
      "Maximum score obtained:  0.581\n",
      "Average score obtained:  0.5749\n"
     ]
    }
   ],
   "source": [
    "scores = cross_val_score(estimator = AdaBoostClassifier(n_estimators = 40, random_state = 10), \n",
    "                         X = X_train, y = y_train, cv = 5)\n",
    "\n",
    "print('All scores: ', scores)\n",
    "print(\"\\nMinimum score obtained: \", round(min(scores), 4))\n",
    "print(\"Maximum score obtained: \", round(max(scores), 4))\n",
    "print(\"Average score obtained: \", round(np.mean(scores), 4))"
   ]
  },
  {
   "cell_type": "markdown",
   "id": "2359c3f7",
   "metadata": {},
   "source": [
    "## Customer Segmentation"
   ]
  },
  {
   "cell_type": "code",
   "execution_count": 53,
   "id": "7a6bac08",
   "metadata": {},
   "outputs": [],
   "source": [
    "df['Date'] = pd.to_datetime(df['Date'], format = '%d-%m-%Y%H:%M:%S')"
   ]
  },
  {
   "cell_type": "code",
   "execution_count": 54,
   "id": "80b5e22f",
   "metadata": {},
   "outputs": [
    {
     "data": {
      "text/html": [
       "<div>\n",
       "<style scoped>\n",
       "    .dataframe tbody tr th:only-of-type {\n",
       "        vertical-align: middle;\n",
       "    }\n",
       "\n",
       "    .dataframe tbody tr th {\n",
       "        vertical-align: top;\n",
       "    }\n",
       "\n",
       "    .dataframe thead th {\n",
       "        text-align: right;\n",
       "    }\n",
       "</style>\n",
       "<table border=\"1\" class=\"dataframe\">\n",
       "  <thead>\n",
       "    <tr style=\"text-align: right;\">\n",
       "      <th></th>\n",
       "      <th>customer_id</th>\n",
       "      <th>Amount</th>\n",
       "    </tr>\n",
       "  </thead>\n",
       "  <tbody>\n",
       "    <tr>\n",
       "      <th>0</th>\n",
       "      <td>1152937741</td>\n",
       "      <td>0</td>\n",
       "    </tr>\n",
       "    <tr>\n",
       "      <th>1</th>\n",
       "      <td>1152948204</td>\n",
       "      <td>800</td>\n",
       "    </tr>\n",
       "    <tr>\n",
       "      <th>2</th>\n",
       "      <td>1152980810</td>\n",
       "      <td>819</td>\n",
       "    </tr>\n",
       "    <tr>\n",
       "      <th>3</th>\n",
       "      <td>1153004167</td>\n",
       "      <td>7150</td>\n",
       "    </tr>\n",
       "    <tr>\n",
       "      <th>4</th>\n",
       "      <td>1153087279</td>\n",
       "      <td>1</td>\n",
       "    </tr>\n",
       "  </tbody>\n",
       "</table>\n",
       "</div>"
      ],
      "text/plain": [
       "  customer_id  Amount\n",
       "0  1152937741       0\n",
       "1  1152948204     800\n",
       "2  1152980810     819\n",
       "3  1153004167    7150\n",
       "4  1153087279       1"
      ]
     },
     "execution_count": 54,
     "metadata": {},
     "output_type": "execute_result"
    }
   ],
   "source": [
    "# monetary analysis - total amount spent by each customer\n",
    "\n",
    "monetary = df.groupby('customer_id').sum()['Amount'].reset_index()\n",
    "monetary.head()"
   ]
  },
  {
   "cell_type": "code",
   "execution_count": 55,
   "id": "71103f67",
   "metadata": {},
   "outputs": [
    {
     "data": {
      "text/html": [
       "<div>\n",
       "<style scoped>\n",
       "    .dataframe tbody tr th:only-of-type {\n",
       "        vertical-align: middle;\n",
       "    }\n",
       "\n",
       "    .dataframe tbody tr th {\n",
       "        vertical-align: top;\n",
       "    }\n",
       "\n",
       "    .dataframe thead th {\n",
       "        text-align: right;\n",
       "    }\n",
       "</style>\n",
       "<table border=\"1\" class=\"dataframe\">\n",
       "  <thead>\n",
       "    <tr style=\"text-align: right;\">\n",
       "      <th></th>\n",
       "      <th>customer_id</th>\n",
       "      <th>Transaction_id</th>\n",
       "    </tr>\n",
       "  </thead>\n",
       "  <tbody>\n",
       "    <tr>\n",
       "      <th>0</th>\n",
       "      <td>1152937741</td>\n",
       "      <td>1</td>\n",
       "    </tr>\n",
       "    <tr>\n",
       "      <th>1</th>\n",
       "      <td>1152948204</td>\n",
       "      <td>1</td>\n",
       "    </tr>\n",
       "    <tr>\n",
       "      <th>2</th>\n",
       "      <td>1152980810</td>\n",
       "      <td>1</td>\n",
       "    </tr>\n",
       "    <tr>\n",
       "      <th>3</th>\n",
       "      <td>1153004167</td>\n",
       "      <td>1</td>\n",
       "    </tr>\n",
       "    <tr>\n",
       "      <th>4</th>\n",
       "      <td>1153087279</td>\n",
       "      <td>1</td>\n",
       "    </tr>\n",
       "  </tbody>\n",
       "</table>\n",
       "</div>"
      ],
      "text/plain": [
       "  customer_id  Transaction_id\n",
       "0  1152937741               1\n",
       "1  1152948204               1\n",
       "2  1152980810               1\n",
       "3  1153004167               1\n",
       "4  1153087279               1"
      ]
     },
     "execution_count": 55,
     "metadata": {},
     "output_type": "execute_result"
    }
   ],
   "source": [
    "# frequency analysis - how many times the customer bought products\n",
    "\n",
    "frequency = df.groupby(['customer_id'])['Transaction_id'].count().reset_index()\n",
    "frequency.head()"
   ]
  },
  {
   "cell_type": "code",
   "execution_count": 56,
   "id": "aa83b30c",
   "metadata": {},
   "outputs": [
    {
     "data": {
      "text/html": [
       "<div>\n",
       "<style scoped>\n",
       "    .dataframe tbody tr th:only-of-type {\n",
       "        vertical-align: middle;\n",
       "    }\n",
       "\n",
       "    .dataframe tbody tr th {\n",
       "        vertical-align: top;\n",
       "    }\n",
       "\n",
       "    .dataframe thead th {\n",
       "        text-align: right;\n",
       "    }\n",
       "</style>\n",
       "<table border=\"1\" class=\"dataframe\">\n",
       "  <thead>\n",
       "    <tr style=\"text-align: right;\">\n",
       "      <th></th>\n",
       "      <th>customer_id</th>\n",
       "      <th>days_to_last_order</th>\n",
       "    </tr>\n",
       "  </thead>\n",
       "  <tbody>\n",
       "    <tr>\n",
       "      <th>0</th>\n",
       "      <td>1152937741</td>\n",
       "      <td>41</td>\n",
       "    </tr>\n",
       "    <tr>\n",
       "      <th>1</th>\n",
       "      <td>1152948204</td>\n",
       "      <td>54</td>\n",
       "    </tr>\n",
       "    <tr>\n",
       "      <th>2</th>\n",
       "      <td>1152980810</td>\n",
       "      <td>50</td>\n",
       "    </tr>\n",
       "    <tr>\n",
       "      <th>3</th>\n",
       "      <td>1153004167</td>\n",
       "      <td>105</td>\n",
       "    </tr>\n",
       "    <tr>\n",
       "      <th>4</th>\n",
       "      <td>1153087279</td>\n",
       "      <td>54</td>\n",
       "    </tr>\n",
       "  </tbody>\n",
       "</table>\n",
       "</div>"
      ],
      "text/plain": [
       "  customer_id  days_to_last_order\n",
       "0  1152937741                  41\n",
       "1  1152948204                  54\n",
       "2  1152980810                  50\n",
       "3  1153004167                 105\n",
       "4  1153087279                  54"
      ]
     },
     "execution_count": 56,
     "metadata": {},
     "output_type": "execute_result"
    }
   ],
   "source": [
    "# recency analysis\n",
    "# reference date for calculating recency as last transaction day in data + 1 day\n",
    "\n",
    "ref_day = max(df['Date']) + timedelta(days=1)\n",
    "df['days_to_last_order'] = (ref_day - df['Date']).dt.days\n",
    "\n",
    "recency = df.groupby('customer_id')['days_to_last_order'].min().reset_index()\n",
    "recency.head()"
   ]
  },
  {
   "cell_type": "code",
   "execution_count": 57,
   "id": "686b62b1",
   "metadata": {},
   "outputs": [
    {
     "data": {
      "text/html": [
       "<div>\n",
       "<style scoped>\n",
       "    .dataframe tbody tr th:only-of-type {\n",
       "        vertical-align: middle;\n",
       "    }\n",
       "\n",
       "    .dataframe tbody tr th {\n",
       "        vertical-align: top;\n",
       "    }\n",
       "\n",
       "    .dataframe thead th {\n",
       "        text-align: right;\n",
       "    }\n",
       "</style>\n",
       "<table border=\"1\" class=\"dataframe\">\n",
       "  <thead>\n",
       "    <tr style=\"text-align: right;\">\n",
       "      <th></th>\n",
       "      <th>CustomerID</th>\n",
       "      <th>Recency</th>\n",
       "      <th>Frequency</th>\n",
       "      <th>Monetary</th>\n",
       "    </tr>\n",
       "  </thead>\n",
       "  <tbody>\n",
       "    <tr>\n",
       "      <th>0</th>\n",
       "      <td>1152937741</td>\n",
       "      <td>41</td>\n",
       "      <td>1</td>\n",
       "      <td>0</td>\n",
       "    </tr>\n",
       "    <tr>\n",
       "      <th>1</th>\n",
       "      <td>1152948204</td>\n",
       "      <td>54</td>\n",
       "      <td>1</td>\n",
       "      <td>800</td>\n",
       "    </tr>\n",
       "    <tr>\n",
       "      <th>2</th>\n",
       "      <td>1152980810</td>\n",
       "      <td>50</td>\n",
       "      <td>1</td>\n",
       "      <td>819</td>\n",
       "    </tr>\n",
       "    <tr>\n",
       "      <th>3</th>\n",
       "      <td>1153004167</td>\n",
       "      <td>105</td>\n",
       "      <td>1</td>\n",
       "      <td>7150</td>\n",
       "    </tr>\n",
       "    <tr>\n",
       "      <th>4</th>\n",
       "      <td>1153087279</td>\n",
       "      <td>54</td>\n",
       "      <td>1</td>\n",
       "      <td>1</td>\n",
       "    </tr>\n",
       "  </tbody>\n",
       "</table>\n",
       "</div>"
      ],
      "text/plain": [
       "   CustomerID  Recency  Frequency  Monetary\n",
       "0  1152937741       41          1         0\n",
       "1  1152948204       54          1       800\n",
       "2  1152980810       50          1       819\n",
       "3  1153004167      105          1      7150\n",
       "4  1153087279       54          1         1"
      ]
     },
     "execution_count": 57,
     "metadata": {},
     "output_type": "execute_result"
    }
   ],
   "source": [
    "# rfm data\n",
    "\n",
    "rf = pd.merge(recency, frequency,  on='customer_id', how='inner')\n",
    "rfm = pd.merge(rf, monetary, on='customer_id', how='inner')\n",
    "rfm.columns = ['CustomerID', 'Recency', 'Frequency', 'Monetary']\n",
    "rfm.head()"
   ]
  },
  {
   "cell_type": "code",
   "execution_count": 58,
   "id": "12e696c2",
   "metadata": {},
   "outputs": [
    {
     "data": {
      "text/html": [
       "<div>\n",
       "<style scoped>\n",
       "    .dataframe tbody tr th:only-of-type {\n",
       "        vertical-align: middle;\n",
       "    }\n",
       "\n",
       "    .dataframe tbody tr th {\n",
       "        vertical-align: top;\n",
       "    }\n",
       "\n",
       "    .dataframe thead th {\n",
       "        text-align: right;\n",
       "    }\n",
       "</style>\n",
       "<table border=\"1\" class=\"dataframe\">\n",
       "  <thead>\n",
       "    <tr style=\"text-align: right;\">\n",
       "      <th></th>\n",
       "      <th>CustomerID</th>\n",
       "      <th>Recency</th>\n",
       "      <th>Frequency</th>\n",
       "      <th>Monetary</th>\n",
       "      <th>Recency_labels</th>\n",
       "      <th>Frequency_labels</th>\n",
       "      <th>Monetary_labels</th>\n",
       "    </tr>\n",
       "  </thead>\n",
       "  <tbody>\n",
       "    <tr>\n",
       "      <th>0</th>\n",
       "      <td>1152937741</td>\n",
       "      <td>41</td>\n",
       "      <td>1</td>\n",
       "      <td>0</td>\n",
       "      <td>Medium</td>\n",
       "      <td>Low</td>\n",
       "      <td>Small</td>\n",
       "    </tr>\n",
       "    <tr>\n",
       "      <th>1</th>\n",
       "      <td>1152948204</td>\n",
       "      <td>54</td>\n",
       "      <td>1</td>\n",
       "      <td>800</td>\n",
       "      <td>Medium</td>\n",
       "      <td>Low</td>\n",
       "      <td>Small</td>\n",
       "    </tr>\n",
       "    <tr>\n",
       "      <th>2</th>\n",
       "      <td>1152980810</td>\n",
       "      <td>50</td>\n",
       "      <td>1</td>\n",
       "      <td>819</td>\n",
       "      <td>Medium</td>\n",
       "      <td>Low</td>\n",
       "      <td>Small</td>\n",
       "    </tr>\n",
       "    <tr>\n",
       "      <th>3</th>\n",
       "      <td>1153004167</td>\n",
       "      <td>105</td>\n",
       "      <td>1</td>\n",
       "      <td>7150</td>\n",
       "      <td>Old</td>\n",
       "      <td>Low</td>\n",
       "      <td>Small</td>\n",
       "    </tr>\n",
       "    <tr>\n",
       "      <th>4</th>\n",
       "      <td>1153087279</td>\n",
       "      <td>54</td>\n",
       "      <td>1</td>\n",
       "      <td>1</td>\n",
       "      <td>Medium</td>\n",
       "      <td>Low</td>\n",
       "      <td>Small</td>\n",
       "    </tr>\n",
       "  </tbody>\n",
       "</table>\n",
       "</div>"
      ],
      "text/plain": [
       "   CustomerID  Recency  Frequency  Monetary Recency_labels Frequency_labels  \\\n",
       "0  1152937741       41          1         0         Medium              Low   \n",
       "1  1152948204       54          1       800         Medium              Low   \n",
       "2  1152980810       50          1       819         Medium              Low   \n",
       "3  1153004167      105          1      7150            Old              Low   \n",
       "4  1153087279       54          1         1         Medium              Low   \n",
       "\n",
       "  Monetary_labels  \n",
       "0           Small  \n",
       "1           Small  \n",
       "2           Small  \n",
       "3           Small  \n",
       "4           Small  "
      ]
     },
     "execution_count": 58,
     "metadata": {},
     "output_type": "execute_result"
    }
   ],
   "source": [
    "# rfm segments\n",
    "\n",
    "rfm['Recency_labels'] = pd.cut(rfm['Recency'], bins = 3, labels=['New','Medium','Old'])\n",
    "\n",
    "rfm['Frequency_labels'] = pd.cut(rfm['Frequency'], bins = 3, labels=['Low','Medium','High'])\n",
    "\n",
    "rfm['Monetary_labels'] = pd.cut(rfm['Monetary'], bins = 3, labels=['Small','Medium','large'])\n",
    "\n",
    "rfm.head()"
   ]
  },
  {
   "cell_type": "code",
   "execution_count": 59,
   "id": "fa99e486",
   "metadata": {},
   "outputs": [
    {
     "data": {
      "image/png": "[encoded data removed]",
      "text/plain": [
       "<Figure size 864x432 with 6 Axes>"
      ]
     },
     "metadata": {
      "needs_background": "light"
     },
     "output_type": "display_data"
    }
   ],
   "source": [
    "plt.figure(figsize=(12,6))\n",
    "\n",
    "for i, feature in enumerate(['Recency', 'Frequency', 'Monetary']):\n",
    "    plt.subplot(2,3,i+1)\n",
    "    rfm[feature].plot(kind='box')\n",
    "    plt.subplot(2,3,i+1+3)\n",
    "    rfm[feature].plot(kind='hist')"
   ]
  },
  {
   "cell_type": "code",
   "execution_count": 60,
   "id": "95c3b6e0",
   "metadata": {},
   "outputs": [
    {
     "data": {
      "text/plain": [
       "(50494, 7)"
      ]
     },
     "execution_count": 60,
     "metadata": {},
     "output_type": "execute_result"
    }
   ],
   "source": [
    "# Outliers\n",
    "\n",
    "rfm = rfm[(rfm['Frequency'] < 6) & (rfm['Monetary'] < 12000)]\n",
    "rfm.shape"
   ]
  },
  {
   "cell_type": "markdown",
   "id": "631fbc39",
   "metadata": {},
   "source": [
    "### Transformation"
   ]
  },
  {
   "cell_type": "code",
   "execution_count": 61,
   "id": "9fd86b7f",
   "metadata": {},
   "outputs": [],
   "source": [
    "# log transformation\n",
    "\n",
    "rfm_log = pd.DataFrame()\n",
    "rfm_log['Recency'] = np.log(rfm['Recency'])\n",
    "rfm_log['Frequency'] = np.log(rfm['Frequency'])\n",
    "rfm_log['Monetary'] = np.log(rfm['Monetary'] - rfm['Monetary'].min()+1)"
   ]
  },
  {
   "cell_type": "markdown",
   "id": "f6f95ed6",
   "metadata": {},
   "source": [
    "### Scaling the data"
   ]
  },
  {
   "cell_type": "code",
   "execution_count": 62,
   "id": "3ca40082",
   "metadata": {},
   "outputs": [
    {
     "data": {
      "text/html": [
       "<div>\n",
       "<style scoped>\n",
       "    .dataframe tbody tr th:only-of-type {\n",
       "        vertical-align: middle;\n",
       "    }\n",
       "\n",
       "    .dataframe tbody tr th {\n",
       "        vertical-align: top;\n",
       "    }\n",
       "\n",
       "    .dataframe thead th {\n",
       "        text-align: right;\n",
       "    }\n",
       "</style>\n",
       "<table border=\"1\" class=\"dataframe\">\n",
       "  <thead>\n",
       "    <tr style=\"text-align: right;\">\n",
       "      <th></th>\n",
       "      <th>Recency</th>\n",
       "      <th>Frequency</th>\n",
       "      <th>Monetary</th>\n",
       "    </tr>\n",
       "  </thead>\n",
       "  <tbody>\n",
       "    <tr>\n",
       "      <th>0</th>\n",
       "      <td>-0.314249</td>\n",
       "      <td>-0.06718</td>\n",
       "      <td>-2.412751</td>\n",
       "    </tr>\n",
       "    <tr>\n",
       "      <th>1</th>\n",
       "      <td>0.097550</td>\n",
       "      <td>-0.06718</td>\n",
       "      <td>0.066188</td>\n",
       "    </tr>\n",
       "    <tr>\n",
       "      <th>2</th>\n",
       "      <td>-0.017523</td>\n",
       "      <td>-0.06718</td>\n",
       "      <td>0.074880</td>\n",
       "    </tr>\n",
       "    <tr>\n",
       "      <th>3</th>\n",
       "      <td>1.091831</td>\n",
       "      <td>-0.06718</td>\n",
       "      <td>0.877865</td>\n",
       "    </tr>\n",
       "    <tr>\n",
       "      <th>4</th>\n",
       "      <td>0.097550</td>\n",
       "      <td>-0.06718</td>\n",
       "      <td>-2.155750</td>\n",
       "    </tr>\n",
       "  </tbody>\n",
       "</table>\n",
       "</div>"
      ],
      "text/plain": [
       "    Recency  Frequency  Monetary\n",
       "0 -0.314249   -0.06718 -2.412751\n",
       "1  0.097550   -0.06718  0.066188\n",
       "2 -0.017523   -0.06718  0.074880\n",
       "3  1.091831   -0.06718  0.877865\n",
       "4  0.097550   -0.06718 -2.155750"
      ]
     },
     "execution_count": 62,
     "metadata": {},
     "output_type": "execute_result"
    }
   ],
   "source": [
    "scaler = StandardScaler()\n",
    "\n",
    "rfm_scaled = scaler.fit_transform(rfm_log[['Recency', 'Frequency', 'Monetary']])\n",
    "rfm_scaled = pd.DataFrame(rfm_scaled)\n",
    "rfm_scaled.columns = ['Recency', 'Frequency', 'Monetary']\n",
    "rfm_scaled.head()"
   ]
  },
  {
   "cell_type": "markdown",
   "id": "35bcaddf",
   "metadata": {},
   "source": [
    "### K-means Clustering"
   ]
  },
  {
   "cell_type": "code",
   "execution_count": 63,
   "id": "a7df4ae6",
   "metadata": {},
   "outputs": [
    {
     "data": {
      "text/html": [
       "<style>#sk-container-id-1 {color: black;background-color: white;}#sk-container-id-1 pre{padding: 0;}#sk-container-id-1 div.sk-toggleable {background-color: white;}#sk-container-id-1 label.sk-toggleable__label {cursor: pointer;display: block;width: 100%;margin-bottom: 0;padding: 0.3em;box-sizing: border-box;text-align: center;}#sk-container-id-1 label.sk-toggleable__label-arrow:before {content: \"▸\";float: left;margin-right: 0.25em;color: #696969;}#sk-container-id-1 label.sk-toggleable__label-arrow:hover:before {color: black;}#sk-container-id-1 div.sk-estimator:hover label.sk-toggleable__label-arrow:before {color: black;}#sk-container-id-1 div.sk-toggleable__content {max-height: 0;max-width: 0;overflow: hidden;text-align: left;background-color: #f0f8ff;}#sk-container-id-1 div.sk-toggleable__content pre {margin: 0.2em;color: black;border-radius: 0.25em;background-color: #f0f8ff;}#sk-container-id-1 input.sk-toggleable__control:checked~div.sk-toggleable__content {max-height: 200px;max-width: 100%;overflow: auto;}#sk-container-id-1 input.sk-toggleable__control:checked~label.sk-toggleable__label-arrow:before {content: \"▾\";}#sk-container-id-1 div.sk-estimator input.sk-toggleable__control:checked~label.sk-toggleable__label {background-color: #d4ebff;}#sk-container-id-1 div.sk-label input.sk-toggleable__control:checked~label.sk-toggleable__label {background-color: #d4ebff;}#sk-container-id-1 input.sk-hidden--visually {border: 0;clip: rect(1px 1px 1px 1px);clip: rect(1px, 1px, 1px, 1px);height: 1px;margin: -1px;overflow: hidden;padding: 0;position: absolute;width: 1px;}#sk-container-id-1 div.sk-estimator {font-family: monospace;background-color: #f0f8ff;border: 1px dotted black;border-radius: 0.25em;box-sizing: border-box;margin-bottom: 0.5em;}#sk-container-id-1 div.sk-estimator:hover {background-color: #d4ebff;}#sk-container-id-1 div.sk-parallel-item::after {content: \"\";width: 100%;border-bottom: 1px solid gray;flex-grow: 1;}#sk-container-id-1 div.sk-label:hover label.sk-toggleable__label {background-color: #d4ebff;}#sk-container-id-1 div.sk-serial::before {content: \"\";position: absolute;border-left: 1px solid gray;box-sizing: border-box;top: 0;bottom: 0;left: 50%;z-index: 0;}#sk-container-id-1 div.sk-serial {display: flex;flex-direction: column;align-items: center;background-color: white;padding-right: 0.2em;padding-left: 0.2em;position: relative;}#sk-container-id-1 div.sk-item {position: relative;z-index: 1;}#sk-container-id-1 div.sk-parallel {display: flex;align-items: stretch;justify-content: center;background-color: white;position: relative;}#sk-container-id-1 div.sk-item::before, #sk-container-id-1 div.sk-parallel-item::before {content: \"\";position: absolute;border-left: 1px solid gray;box-sizing: border-box;top: 0;bottom: 0;left: 50%;z-index: -1;}#sk-container-id-1 div.sk-parallel-item {display: flex;flex-direction: column;z-index: 1;position: relative;background-color: white;}#sk-container-id-1 div.sk-parallel-item:first-child::after {align-self: flex-end;width: 50%;}#sk-container-id-1 div.sk-parallel-item:last-child::after {align-self: flex-start;width: 50%;}#sk-container-id-1 div.sk-parallel-item:only-child::after {width: 0;}#sk-container-id-1 div.sk-dashed-wrapped {border: 1px dashed gray;margin: 0 0.4em 0.5em 0.4em;box-sizing: border-box;padding-bottom: 0.4em;background-color: white;}#sk-container-id-1 div.sk-label label {font-family: monospace;font-weight: bold;display: inline-block;line-height: 1.2em;}#sk-container-id-1 div.sk-label-container {text-align: center;}#sk-container-id-1 div.sk-container {/* jupyter's `normalize.less` sets `[hidden] { display: none; }` but bootstrap.min.css set `[hidden] { display: none !important; }` so we also need the `!important` here to be able to override the default hidden behavior on the sphinx rendered scikit-learn.org. See: https://github.com/scikit-learn/scikit-learn/issues/21755 */display: inline-block !important;position: relative;}#sk-container-id-1 div.sk-text-repr-fallback {display: none;}</style><div id=\"sk-container-id-1\" class=\"sk-top-container\"><div class=\"sk-text-repr-fallback\"><pre>KMeans(max_iter=50, n_clusters=3)</pre><b>In a Jupyter environment, please rerun this cell to show the HTML representation or trust the notebook. <br />On GitHub, the HTML representation is unable to render, please try loading this page with nbviewer.org.</b></div><div class=\"sk-container\" hidden><div class=\"sk-item\"><div class=\"sk-estimator sk-toggleable\"><input class=\"sk-toggleable__control sk-hidden--visually\" id=\"sk-estimator-id-1\" type=\"checkbox\" checked><label for=\"sk-estimator-id-1\" class=\"sk-toggleable__label sk-toggleable__label-arrow\">KMeans</label><div class=\"sk-toggleable__content\"><pre>KMeans(max_iter=50, n_clusters=3)</pre></div></div></div></div></div>"
      ],
      "text/plain": [
       "KMeans(max_iter=50, n_clusters=3)"
      ]
     },
     "execution_count": 63,
     "metadata": {},
     "output_type": "execute_result"
    }
   ],
   "source": [
    "kmeans = KMeans(n_clusters=3, max_iter=50)\n",
    "kmeans.fit(rfm_scaled)"
   ]
  },
  {
   "cell_type": "code",
   "execution_count": 64,
   "id": "e300aa40",
   "metadata": {},
   "outputs": [
    {
     "data": {
      "text/plain": [
       "array([1, 0, 0, ..., 0, 0, 0])"
      ]
     },
     "execution_count": 64,
     "metadata": {},
     "output_type": "execute_result"
    }
   ],
   "source": [
    "kmeans.labels_"
   ]
  },
  {
   "cell_type": "markdown",
   "id": "3569ae73",
   "metadata": {},
   "source": [
    "### Optimal Clusters - Elbow plot"
   ]
  },
  {
   "cell_type": "code",
   "execution_count": 65,
   "id": "58d06f73",
   "metadata": {},
   "outputs": [
    {
     "data": {
      "image/png": "[encoded data removed]",
      "text/plain": [
       "<Figure size 432x288 with 1 Axes>"
      ]
     },
     "metadata": {
      "needs_background": "light"
     },
     "output_type": "display_data"
    }
   ],
   "source": [
    "wcss = []\n",
    "\n",
    "for num_clusters in range(1,21):\n",
    "    kmeans = KMeans(n_clusters=num_clusters, max_iter=100)\n",
    "    kmeans.fit(rfm_scaled)\n",
    "    wcss.append(kmeans.inertia_)\n",
    "    \n",
    "# plot the SSDs for each n_clusters\n",
    "plt.plot(range(1,21),wcss)\n",
    "\n",
    "plt.title('Elbow Plot', fontsize = 15)\n",
    "plt.xlabel('No. of clusters (K)', fontsize = 15)\n",
    "plt.ylabel('WCSS', fontsize = 15)\n",
    "\n",
    "# display the plot\n",
    "plt.show()"
   ]
  },
  {
   "cell_type": "code",
   "execution_count": 66,
   "id": "4132def2",
   "metadata": {},
   "outputs": [
    {
     "data": {
      "image/png": "[encoded data removed]",
      "text/plain": [
       "<Figure size 432x288 with 1 Axes>"
      ]
     },
     "metadata": {
      "needs_background": "light"
     },
     "output_type": "display_data"
    }
   ],
   "source": [
    "# visualize the elbow plot to get the optimal value of K\n",
    "plt.plot(range(1,21), wcss)\n",
    "\n",
    "# set the axes and plot labels\n",
    "# set the font size using 'fontsize'\n",
    "plt.title('Elbow Plot', fontsize = 15)\n",
    "plt.xlabel('No. of clusters (K)', fontsize = 15)\n",
    "plt.ylabel('WCSS', fontsize = 15)\n",
    "\n",
    "# plot a vertical line at the elbow\n",
    "plt.axvline(x = 4, color = 'red')\n",
    "\n",
    "# display the plot\n",
    "plt.show()"
   ]
  },
  {
   "cell_type": "markdown",
   "id": "de84de59",
   "metadata": {},
   "source": [
    "**Optimal Clusters is 4**"
   ]
  },
  {
   "cell_type": "code",
   "execution_count": 67,
   "id": "e1be6f9f",
   "metadata": {},
   "outputs": [
    {
     "name": "stdout",
     "output_type": "stream",
     "text": [
      "For 2 clusters the silhouette score is 0.8909737715239446)\n",
      "For 3 clusters the silhouette score is 0.6305605321065514)\n",
      "For 4 clusters the silhouette score is 0.6354921822654809)\n",
      "For 5 clusters the silhouette score is 0.4854669368654456)\n"
     ]
    }
   ],
   "source": [
    "n_clusters = [2, 3, 4, 5]\n",
    "\n",
    "for K in n_clusters:\n",
    "    cluster = KMeans (n_clusters= K, random_state= 10)\n",
    "    predict = cluster.fit_predict(rfm_scaled)\n",
    "    score = silhouette_score(rfm_scaled, predict, random_state= 10)\n",
    "    print (\"For {} clusters the silhouette score is {})\".format(K, score))"
   ]
  },
  {
   "cell_type": "code",
   "execution_count": 68,
   "id": "5a3459f4",
   "metadata": {},
   "outputs": [
    {
     "data": {
      "text/html": [
       "<div>\n",
       "<style scoped>\n",
       "    .dataframe tbody tr th:only-of-type {\n",
       "        vertical-align: middle;\n",
       "    }\n",
       "\n",
       "    .dataframe tbody tr th {\n",
       "        vertical-align: top;\n",
       "    }\n",
       "\n",
       "    .dataframe thead th {\n",
       "        text-align: right;\n",
       "    }\n",
       "</style>\n",
       "<table border=\"1\" class=\"dataframe\">\n",
       "  <thead>\n",
       "    <tr style=\"text-align: right;\">\n",
       "      <th></th>\n",
       "      <th>CustomerID</th>\n",
       "      <th>Recency</th>\n",
       "      <th>Frequency</th>\n",
       "      <th>Monetary</th>\n",
       "      <th>Recency_labels</th>\n",
       "      <th>Frequency_labels</th>\n",
       "      <th>Monetary_labels</th>\n",
       "      <th>Cluster</th>\n",
       "    </tr>\n",
       "  </thead>\n",
       "  <tbody>\n",
       "    <tr>\n",
       "      <th>0</th>\n",
       "      <td>1152937741</td>\n",
       "      <td>41</td>\n",
       "      <td>1</td>\n",
       "      <td>0</td>\n",
       "      <td>Medium</td>\n",
       "      <td>Low</td>\n",
       "      <td>Small</td>\n",
       "      <td>0</td>\n",
       "    </tr>\n",
       "    <tr>\n",
       "      <th>1</th>\n",
       "      <td>1152948204</td>\n",
       "      <td>54</td>\n",
       "      <td>1</td>\n",
       "      <td>800</td>\n",
       "      <td>Medium</td>\n",
       "      <td>Low</td>\n",
       "      <td>Small</td>\n",
       "      <td>1</td>\n",
       "    </tr>\n",
       "    <tr>\n",
       "      <th>2</th>\n",
       "      <td>1152980810</td>\n",
       "      <td>50</td>\n",
       "      <td>1</td>\n",
       "      <td>819</td>\n",
       "      <td>Medium</td>\n",
       "      <td>Low</td>\n",
       "      <td>Small</td>\n",
       "      <td>1</td>\n",
       "    </tr>\n",
       "    <tr>\n",
       "      <th>3</th>\n",
       "      <td>1153004167</td>\n",
       "      <td>105</td>\n",
       "      <td>1</td>\n",
       "      <td>7150</td>\n",
       "      <td>Old</td>\n",
       "      <td>Low</td>\n",
       "      <td>Small</td>\n",
       "      <td>1</td>\n",
       "    </tr>\n",
       "    <tr>\n",
       "      <th>4</th>\n",
       "      <td>1153087279</td>\n",
       "      <td>54</td>\n",
       "      <td>1</td>\n",
       "      <td>1</td>\n",
       "      <td>Medium</td>\n",
       "      <td>Low</td>\n",
       "      <td>Small</td>\n",
       "      <td>0</td>\n",
       "    </tr>\n",
       "  </tbody>\n",
       "</table>\n",
       "</div>"
      ],
      "text/plain": [
       "   CustomerID  Recency  Frequency  Monetary Recency_labels Frequency_labels  \\\n",
       "0  1152937741       41          1         0         Medium              Low   \n",
       "1  1152948204       54          1       800         Medium              Low   \n",
       "2  1152980810       50          1       819         Medium              Low   \n",
       "3  1153004167      105          1      7150            Old              Low   \n",
       "4  1153087279       54          1         1         Medium              Low   \n",
       "\n",
       "  Monetary_labels  Cluster  \n",
       "0           Small        0  \n",
       "1           Small        1  \n",
       "2           Small        1  \n",
       "3           Small        1  \n",
       "4           Small        0  "
      ]
     },
     "execution_count": 68,
     "metadata": {},
     "output_type": "execute_result"
    }
   ],
   "source": [
    "# build a K-Means model with 4 clusters\n",
    "new_clusters = KMeans(n_clusters = 4, random_state = 10)\n",
    "\n",
    "# fit the model\n",
    "new_clusters.fit(rfm_scaled)\n",
    "\n",
    "# append the cluster label for each point in the dataframe 'df_cust'\n",
    "rfm['Cluster'] = new_clusters.labels_\n",
    "rfm.head()"
   ]
  },
  {
   "cell_type": "code",
   "execution_count": 69,
   "id": "5d616265",
   "metadata": {},
   "outputs": [
    {
     "data": {
      "image/png": "[encoded data removed]",
      "text/plain": [
       "<Figure size 1440x720 with 3 Axes>"
      ]
     },
     "metadata": {
      "needs_background": "light"
     },
     "output_type": "display_data"
    }
   ],
   "source": [
    "plt.figure(figsize = (20,10))\n",
    "\n",
    "plt.suptitle('RFM Cluster analysis')\n",
    "\n",
    "plt.subplot(1,3,1)\n",
    "sns.boxplot(x='Cluster', y='Recency', data=rfm)\n",
    "plt.title('Recency')\n",
    "\n",
    "plt.subplot(1,3,2)\n",
    "sns.boxplot(x='Cluster', y='Frequency', data=rfm)\n",
    "plt.title('Frequency')\n",
    "\n",
    "plt.subplot(1,3,3)\n",
    "sns.boxplot(x='Cluster', y='Monetary', data=rfm)\n",
    "plt.title('Monetary')\n",
    "\n",
    "plt.show()"
   ]
  },
  {
   "cell_type": "markdown",
   "id": "077b390c",
   "metadata": {},
   "source": [
    "**Inference :**\n",
    "- Cluster Group 3 are the most frequent buyers, spending high amount and recently placing orders so they are the most important  customers from business point of view.\n",
    "- Cluster 1 and 2 has medium Recency and Monetary but lacks in frequency,focusing on this group and increasing their frequency may generate high sales.\n",
    "- Cluster 0 has the least score in all three and are least important."
   ]
  }
 ],
 "metadata": {
  "kernelspec": {
   "display_name": "Python 3 (ipykernel)",
   "language": "python",
   "name": "python3"
  },
  "language_info": {
   "codemirror_mode": {
    "name": "ipython",
    "version": 3
   },
   "file_extension": ".py",
   "mimetype": "text/x-python",
   "name": "python",
   "nbconvert_exporter": "python",
   "pygments_lexer": "ipython3",
   "version": "3.9.12"
  }
 },
 "nbformat": 4,
 "nbformat_minor": 5
}
